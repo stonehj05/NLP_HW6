{
 "cells": [
  {
   "cell_type": "code",
   "execution_count": 1,
   "metadata": {},
   "outputs": [],
   "source": [
    "#!/usr/bin/env python3"
   ]
  },
  {
   "cell_type": "markdown",
   "metadata": {},
   "source": [
    "This file illustrates how you might experiment with the HMM interface.\n",
    "You can paste these commands in at the Python prompt, or execute `test_ic.py` directly.\n",
    "A notebook interface is nicer than the plain Python prompt, so we provide\n",
    "a notebook version of this file as `test_ic.ipynb`, which you can open with\n",
    "`jupyter` or with Visual Studio `code` (run it with the `nlp-class` kernel)."
   ]
  },
  {
   "cell_type": "code",
   "execution_count": 2,
   "metadata": {},
   "outputs": [],
   "source": [
    "import logging, math, os\n",
    "from pathlib import Path"
   ]
  },
  {
   "cell_type": "code",
   "execution_count": 3,
   "metadata": {},
   "outputs": [],
   "source": [
    "import torch\n",
    "from torch import tensor"
   ]
  },
  {
   "cell_type": "code",
   "execution_count": 4,
   "metadata": {},
   "outputs": [],
   "source": [
    "from corpus import TaggedCorpus\n",
    "from eval import model_cross_entropy, write_tagging\n",
    "from hmm import HiddenMarkovModel\n",
    "from crf import ConditionalRandomField"
   ]
  },
  {
   "cell_type": "markdown",
   "metadata": {},
   "source": [
    "Set up logging."
   ]
  },
  {
   "cell_type": "code",
   "execution_count": 5,
   "metadata": {},
   "outputs": [],
   "source": [
    "log = logging.getLogger(\"test_ic\")       # For usage, see findsim.py in earlier assignment.\n",
    "logging.root.setLevel(level=logging.INFO)\n",
    "logging.basicConfig(level=logging.INFO)  # could change INFO to DEBUG\n",
    "# torch.autograd.set_detect_anomaly(True)    # uncomment to improve error messages from .backward(), but slows down"
   ]
  },
  {
   "cell_type": "markdown",
   "metadata": {},
   "source": [
    "Switch working directory to the directory where the data live.  You may want to edit this line."
   ]
  },
  {
   "cell_type": "code",
   "execution_count": 6,
   "metadata": {},
   "outputs": [],
   "source": [
    "os.chdir(\"../data\")"
   ]
  },
  {
   "cell_type": "markdown",
   "metadata": {},
   "source": [
    "Get vocabulary and tagset from a supervised corpus."
   ]
  },
  {
   "cell_type": "code",
   "execution_count": 7,
   "metadata": {},
   "outputs": [
    {
     "name": "stderr",
     "output_type": "stream",
     "text": [
      "INFO:corpus:Read 40 tokens from icsup\n",
      "INFO:corpus:Created 4 tag types\n",
      "INFO:corpus:Created 5 word types\n",
      "INFO:test_ic:Ice cream vocabulary: ['1', '2', '3', '_EOS_WORD_', '_BOS_WORD_']\n",
      "INFO:test_ic:Ice cream tagset: ['C', 'H', '_EOS_TAG_', '_BOS_TAG_']\n"
     ]
    }
   ],
   "source": [
    "icsup = TaggedCorpus(Path(\"icsup\"), add_oov=False)\n",
    "log.info(f\"Ice cream vocabulary: {list(icsup.vocab)}\")\n",
    "log.info(f\"Ice cream tagset: {list(icsup.tagset)}\")"
   ]
  },
  {
   "cell_type": "markdown",
   "metadata": {},
   "source": [
    "Two ways to look at the corpus ..."
   ]
  },
  {
   "cell_type": "code",
   "execution_count": 8,
   "metadata": {},
   "outputs": [
    {
     "name": "stdout",
     "output_type": "stream",
     "text": [
      "1/C 1/C 1/C 1/C 1/C 1/C 1/C 2/C 2/C 3/H\n",
      "1/H 2/H 2/H 3/H 3/H 3/H 3/H 3/H 3/H 3/C\n",
      "1/C 1/C 1/C 1/C 1/C 1/C 1/C 2/C 2/C 3/H\n",
      "1/H 2/H 2/H 3/H 3/H 3/H 3/H 3/H 3/H 3/C\n"
     ]
    },
    {
     "data": {
      "text/plain": [
       "0"
      ]
     },
     "execution_count": 8,
     "metadata": {},
     "output_type": "execute_result"
    }
   ],
   "source": [
    "os.system(\"cat icsup\")   # call the shell to look at the file directly"
   ]
  },
  {
   "cell_type": "code",
   "execution_count": 9,
   "metadata": {},
   "outputs": [
    {
     "name": "stderr",
     "output_type": "stream",
     "text": [
      "INFO:test_ic:1/C 1/C 1/C 1/C 1/C 1/C 1/C 2/C 2/C 3/H\n",
      "1/H 2/H 2/H 3/H 3/H 3/H 3/H 3/H 3/H 3/C\n",
      "1/C 1/C 1/C 1/C 1/C 1/C 1/C 2/C 2/C 3/H\n",
      "1/H 2/H 2/H 3/H 3/H 3/H 3/H 3/H 3/H 3/C\n"
     ]
    }
   ],
   "source": [
    "log.info(icsup)          # print the TaggedCorpus python object we constructed from it"
   ]
  },
  {
   "cell_type": "markdown",
   "metadata": {},
   "source": [
    "Make an HMM."
   ]
  },
  {
   "cell_type": "code",
   "execution_count": 10,
   "metadata": {},
   "outputs": [
    {
     "name": "stderr",
     "output_type": "stream",
     "text": [
      "INFO:test_ic:*** Hidden Markov Model (HMM) test\n",
      "\n",
      "INFO:test_ic:*** Current A, B matrices (using initalizations from the ice cream spreadsheet)\n"
     ]
    },
    {
     "name": "stdout",
     "output_type": "stream",
     "text": [
      "Transition matrix A:\n",
      "\tC\tH\t_EOS_TAG_\t_BOS_TAG_\n",
      "C\t0.800\t0.100\t0.100\t0.000\n",
      "H\t0.100\t0.800\t0.100\t0.000\n",
      "_EOS_TAG_\t0.000\t0.000\t0.000\t0.000\n",
      "_BOS_TAG_\t0.500\t0.500\t0.000\t0.000\n",
      "\n",
      "Emission matrix B:\n",
      "\t1\t2\t3\n",
      "C\t0.700\t0.200\t0.100\n",
      "H\t0.100\t0.200\t0.700\n",
      "_EOS_TAG_\t0.000\t0.000\t0.000\n",
      "_BOS_TAG_\t0.000\t0.000\t0.000\n",
      "\n",
      "\n"
     ]
    }
   ],
   "source": [
    "log.info(\"*** Hidden Markov Model (HMM) test\\n\")\n",
    "hmm = HiddenMarkovModel(icsup.tagset, icsup.vocab)\n",
    "# Change the transition/emission initial probabilities to match the ice cream spreadsheet,\n",
    "# and test your implementation of the Viterbi algorithm.  Note that the spreadsheet \n",
    "# uses transposed versions of these matrices.\n",
    "hmm.B = tensor([[0.7000, 0.2000, 0.1000],    # emission probabilities\n",
    "                [0.1000, 0.2000, 0.7000],\n",
    "                [0.0000, 0.0000, 0.0000],\n",
    "                [0.0000, 0.0000, 0.0000]])\n",
    "hmm.A = tensor([[0.8000, 0.1000, 0.1000, 0.0000],   # transition probabilities\n",
    "                [0.1000, 0.8000, 0.1000, 0.0000],\n",
    "                [0.0000, 0.0000, 0.0000, 0.0000],\n",
    "                [0.5000, 0.5000, 0.0000, 0.0000]])\n",
    "log.info(\"*** Current A, B matrices (using initalizations from the ice cream spreadsheet)\")\n",
    "hmm.printAB()"
   ]
  },
  {
   "cell_type": "markdown",
   "metadata": {},
   "source": [
    "Try it out on the raw data from the spreadsheet, available in `icraw``."
   ]
  },
  {
   "cell_type": "code",
   "execution_count": 11,
   "metadata": {},
   "outputs": [
    {
     "name": "stderr",
     "output_type": "stream",
     "text": [
      "INFO:test_ic:*** Viterbi results on icraw with hard coded parameters\n",
      "100%|██████████| 1/1 [00:00<00:00, 162.44it/s]"
     ]
    },
    {
     "name": "stdout",
     "output_type": "stream",
     "text": [
      "2/H 3/H 3/H 2/H 3/H 2/H 3/H 2/H 2/H 3/H 1/H 3/H 3/H 1/C 1/C 1/C 2/C 1/C 1/C 1/C 3/C 1/C 2/C 1/C 1/C 1/C 2/H 3/H 3/H 2/H 3/H 2/H 2/H\n"
     ]
    },
    {
     "name": "stderr",
     "output_type": "stream",
     "text": [
      "\n"
     ]
    },
    {
     "data": {
      "text/plain": [
       "0"
      ]
     },
     "execution_count": 11,
     "metadata": {},
     "output_type": "execute_result"
    }
   ],
   "source": [
    "log.info(\"*** Viterbi results on icraw with hard coded parameters\")\n",
    "icraw = TaggedCorpus(Path(\"icraw\"), tagset=icsup.tagset, vocab=icsup.vocab)\n",
    "write_tagging(hmm, icraw, Path(\"icraw_hmm.output\"))  # calls hmm.viterbi_tagging on each sentence\n",
    "os.system(\"cat icraw_hmm.output\")   # print the file we just created, and remove it"
   ]
  },
  {
   "cell_type": "markdown",
   "metadata": {},
   "source": [
    "Did the parameters that we guessed above get the \"correct\" answer, \n",
    "as revealed in `icdev`?"
   ]
  },
  {
   "cell_type": "code",
   "execution_count": 12,
   "metadata": {},
   "outputs": [
    {
     "name": "stderr",
     "output_type": "stream",
     "text": [
      "INFO:test_ic:*** Compare to icdev corpus:\n",
      "2/H 3/H 3/H 2/H 3/H 2/H 3/H 2/H 2/H 3/H 1/C 3/C 3/C 1/C 1/C 1/C 2/C 1/C 1/C 1/C 3/C 1/C 2/C 1/C 1/C 1/C 2/H 3/H 3/H 2/H 3/H 2/H 2/H\n",
      "100%|██████████| 1/1 [00:00<00:00, 368.15it/s]\n",
      "INFO:eval:Tagging accuracy: all: 90.909%, seen: 90.909%, novel: nan%\n"
     ]
    },
    {
     "data": {
      "text/plain": [
       "0.09090909090909094"
      ]
     },
     "execution_count": 12,
     "metadata": {},
     "output_type": "execute_result"
    }
   ],
   "source": [
    "icdev = TaggedCorpus(Path(\"icdev\"), tagset=icsup.tagset, vocab=icsup.vocab)\n",
    "log.info(f\"*** Compare to icdev corpus:\\n{icdev}\")\n",
    "from eval import viterbi_error_rate\n",
    "viterbi_error_rate(hmm, icdev, show_cross_entropy=False)"
   ]
  },
  {
   "cell_type": "markdown",
   "metadata": {},
   "source": [
    "Now let's try your training code, running it on supervised data.\n",
    "To test this, we'll restart from a random initialization.\n",
    "(You could also try creating this new model with `unigram=true`, \n",
    "which will affect the rest of the notebook.)"
   ]
  },
  {
   "cell_type": "code",
   "execution_count": 13,
   "metadata": {},
   "outputs": [
    {
     "name": "stderr",
     "output_type": "stream",
     "text": [
      "INFO:test_ic:*** A, B matrices as randomly initialized close to uniform\n"
     ]
    },
    {
     "name": "stdout",
     "output_type": "stream",
     "text": [
      "Transition matrix A:\n",
      "\tC\tH\t_EOS_TAG_\t_BOS_TAG_\n",
      "C\t0.334\t0.334\t0.332\t0.000\n",
      "H\t0.334\t0.332\t0.334\t0.000\n",
      "_EOS_TAG_\t0.334\t0.333\t0.333\t0.000\n",
      "_BOS_TAG_\t0.333\t0.334\t0.334\t0.000\n",
      "\n",
      "Emission matrix B:\n",
      "\t1\t2\t3\n",
      "C\t0.333\t0.335\t0.332\n",
      "H\t0.333\t0.333\t0.334\n",
      "_EOS_TAG_\t0.000\t0.000\t0.000\n",
      "_BOS_TAG_\t0.000\t0.000\t0.000\n",
      "\n",
      "\n"
     ]
    }
   ],
   "source": [
    "hmm = HiddenMarkovModel(icsup.tagset, icsup.vocab)\n",
    "log.info(\"*** A, B matrices as randomly initialized close to uniform\")\n",
    "hmm.printAB()"
   ]
  },
  {
   "cell_type": "code",
   "execution_count": 14,
   "metadata": {},
   "outputs": [
    {
     "name": "stderr",
     "output_type": "stream",
     "text": [
      "INFO:test_ic:*** Supervised training on icsup\n",
      "100%|██████████| 4/4 [00:00<00:00, 243.77it/s]\n",
      "INFO:eval:Cross-entropy: 2.0979 nats (= perplexity 8.149)\n"
     ]
    },
    {
     "name": "stdout",
     "output_type": "stream",
     "text": [
      "tensor([0.1109, 0.0000, 0.0000, 0.0000])\n",
      "tensor([0.0123, 0.0000, 0.0000, 0.0000])\n",
      "tensor([0.0014, 0.0000, 0.0000, 0.0000])\n",
      "tensor([0.0002, 0.0000, 0.0000, 0.0000])\n",
      "tensor([1.6996e-05, 0.0000e+00, 0.0000e+00, 0.0000e+00])\n",
      "tensor([1.8909e-06, 0.0000e+00, 0.0000e+00, 0.0000e+00])\n",
      "tensor([2.1037e-07, 0.0000e+00, 0.0000e+00, 0.0000e+00])\n",
      "tensor([2.3491e-08, 0.0000e+00, 0.0000e+00, 0.0000e+00])\n",
      "tensor([2.6232e-09, 0.0000e+00, 0.0000e+00, 0.0000e+00])\n",
      "tensor([0.0000e+00, 2.9240e-10, 0.0000e+00, 0.0000e+00])\n",
      "tensor([0.0000e+00, 0.0000e+00, 9.7567e-11, 0.0000e+00])\n",
      "tensor([0.0000, 0.1111, 0.0000, 0.0000])\n",
      "tensor([0.0000, 0.0123, 0.0000, 0.0000])\n",
      "tensor([0.0000, 0.0014, 0.0000, 0.0000])\n",
      "tensor([0.0000, 0.0002, 0.0000, 0.0000])\n",
      "tensor([0.0000e+00, 1.6689e-05, 0.0000e+00, 0.0000e+00])\n",
      "tensor([0.0000e+00, 1.8484e-06, 0.0000e+00, 0.0000e+00])\n",
      "tensor([0.0000e+00, 2.0471e-07, 0.0000e+00, 0.0000e+00])\n",
      "tensor([0.0000e+00, 2.2672e-08, 0.0000e+00, 0.0000e+00])\n",
      "tensor([0.0000e+00, 2.5110e-09, 0.0000e+00, 0.0000e+00])\n",
      "tensor([2.7885e-10, 0.0000e+00, 0.0000e+00, 0.0000e+00])\n",
      "tensor([0.0000e+00, 0.0000e+00, 9.2591e-11, 0.0000e+00])\n",
      "tensor([0.1109, 0.0000, 0.0000, 0.0000])\n",
      "tensor([0.0123, 0.0000, 0.0000, 0.0000])\n",
      "tensor([0.0014, 0.0000, 0.0000, 0.0000])\n",
      "tensor([0.0002, 0.0000, 0.0000, 0.0000])\n",
      "tensor([1.6996e-05, 0.0000e+00, 0.0000e+00, 0.0000e+00])\n",
      "tensor([1.8909e-06, 0.0000e+00, 0.0000e+00, 0.0000e+00])\n",
      "tensor([2.1037e-07, 0.0000e+00, 0.0000e+00, 0.0000e+00])\n",
      "tensor([2.3491e-08, 0.0000e+00, 0.0000e+00, 0.0000e+00])\n",
      "tensor([2.6232e-09, 0.0000e+00, 0.0000e+00, 0.0000e+00])\n",
      "tensor([0.0000e+00, 2.9240e-10, 0.0000e+00, 0.0000e+00])\n",
      "tensor([0.0000e+00, 0.0000e+00, 9.7567e-11, 0.0000e+00])\n",
      "tensor([0.0000, 0.1111, 0.0000, 0.0000])\n",
      "tensor([0.0000, 0.0123, 0.0000, 0.0000])\n",
      "tensor([0.0000, 0.0014, 0.0000, 0.0000])\n",
      "tensor([0.0000, 0.0002, 0.0000, 0.0000])\n",
      "tensor([0.0000e+00, 1.6689e-05, 0.0000e+00, 0.0000e+00])\n",
      "tensor([0.0000e+00, 1.8484e-06, 0.0000e+00, 0.0000e+00])\n",
      "tensor([0.0000e+00, 2.0471e-07, 0.0000e+00, 0.0000e+00])\n",
      "tensor([0.0000e+00, 2.2672e-08, 0.0000e+00, 0.0000e+00])\n",
      "tensor([0.0000e+00, 2.5110e-09, 0.0000e+00, 0.0000e+00])\n",
      "tensor([2.7885e-10, 0.0000e+00, 0.0000e+00, 0.0000e+00])\n",
      "tensor([0.0000e+00, 0.0000e+00, 9.2591e-11, 0.0000e+00])\n"
     ]
    },
    {
     "name": "stderr",
     "output_type": "stream",
     "text": [
      "100%|██████████| 4/4 [00:00<00:00, 151.32it/s]\n"
     ]
    },
    {
     "name": "stdout",
     "output_type": "stream",
     "text": [
      "tensor([0.1109, 0.0000, 0.0000, 0.0000])\n",
      "tensor([0.0123, 0.0000, 0.0000, 0.0000])\n",
      "tensor([0.0014, 0.0000, 0.0000, 0.0000])\n",
      "tensor([0.0002, 0.0000, 0.0000, 0.0000])\n",
      "tensor([1.6996e-05, 0.0000e+00, 0.0000e+00, 0.0000e+00])\n",
      "tensor([1.8909e-06, 0.0000e+00, 0.0000e+00, 0.0000e+00])\n",
      "tensor([2.1037e-07, 0.0000e+00, 0.0000e+00, 0.0000e+00])\n",
      "tensor([2.3491e-08, 0.0000e+00, 0.0000e+00, 0.0000e+00])\n",
      "tensor([2.6232e-09, 0.0000e+00, 0.0000e+00, 0.0000e+00])\n",
      "tensor([0.0000e+00, 2.9240e-10, 0.0000e+00, 0.0000e+00])\n",
      "tensor([0.0000e+00, 0.0000e+00, 9.7567e-11, 0.0000e+00])\n",
      "tensor([0.0000, 0.1111, 0.0000, 0.0000])\n",
      "tensor([0.0000, 0.0123, 0.0000, 0.0000])\n",
      "tensor([0.0000, 0.0014, 0.0000, 0.0000])\n",
      "tensor([0.0000, 0.0002, 0.0000, 0.0000])\n",
      "tensor([0.0000e+00, 1.6689e-05, 0.0000e+00, 0.0000e+00])\n",
      "tensor([0.0000e+00, 1.8484e-06, 0.0000e+00, 0.0000e+00])\n",
      "tensor([0.0000e+00, 2.0471e-07, 0.0000e+00, 0.0000e+00])\n",
      "tensor([0.0000e+00, 2.2672e-08, 0.0000e+00, 0.0000e+00])\n",
      "tensor([0.0000e+00, 2.5110e-09, 0.0000e+00, 0.0000e+00])\n",
      "tensor([2.7885e-10, 0.0000e+00, 0.0000e+00, 0.0000e+00])\n",
      "tensor([0.0000e+00, 0.0000e+00, 9.2591e-11, 0.0000e+00])\n",
      "tensor([0.1109, 0.0000, 0.0000, 0.0000])\n",
      "tensor([0.0123, 0.0000, 0.0000, 0.0000])\n",
      "tensor([0.0014, 0.0000, 0.0000, 0.0000])\n",
      "tensor([0.0002, 0.0000, 0.0000, 0.0000])\n",
      "tensor([1.6996e-05, 0.0000e+00, 0.0000e+00, 0.0000e+00])\n",
      "tensor([1.8909e-06, 0.0000e+00, 0.0000e+00, 0.0000e+00])\n",
      "tensor([2.1037e-07, 0.0000e+00, 0.0000e+00, 0.0000e+00])\n",
      "tensor([2.3491e-08, 0.0000e+00, 0.0000e+00, 0.0000e+00])\n",
      "tensor([2.6232e-09, 0.0000e+00, 0.0000e+00, 0.0000e+00])\n",
      "tensor([0.0000e+00, 2.9240e-10, 0.0000e+00, 0.0000e+00])\n",
      "tensor([0.0000e+00, 0.0000e+00, 9.7567e-11, 0.0000e+00])\n",
      "tensor([0.0000, 0.1111, 0.0000, 0.0000])\n",
      "tensor([0.0000, 0.0123, 0.0000, 0.0000])\n",
      "tensor([0.0000, 0.0014, 0.0000, 0.0000])\n",
      "tensor([0.0000, 0.0002, 0.0000, 0.0000])\n",
      "tensor([0.0000e+00, 1.6689e-05, 0.0000e+00, 0.0000e+00])\n",
      "tensor([0.0000e+00, 1.8484e-06, 0.0000e+00, 0.0000e+00])\n",
      "tensor([0.0000e+00, 2.0471e-07, 0.0000e+00, 0.0000e+00])\n",
      "tensor([0.0000e+00, 2.2672e-08, 0.0000e+00, 0.0000e+00])\n",
      "tensor([0.0000e+00, 2.5110e-09, 0.0000e+00, 0.0000e+00])\n",
      "tensor([2.7885e-10, 0.0000e+00, 0.0000e+00, 0.0000e+00])\n",
      "tensor([0.0000e+00, 0.0000e+00, 9.2591e-11, 0.0000e+00])\n"
     ]
    },
    {
     "name": "stderr",
     "output_type": "stream",
     "text": [
      "100%|██████████| 4/4 [00:00<00:00, 243.82it/s]\n",
      "INFO:eval:Cross-entropy: 1.3729 nats (= perplexity 3.947)\n"
     ]
    },
    {
     "name": "stdout",
     "output_type": "stream",
     "text": [
      "tensor([0.3500, 0.0000, 0.0000, 0.0000])\n",
      "tensor([0.1960, 0.0000, 0.0000, 0.0000])\n",
      "tensor([0.1098, 0.0000, 0.0000, 0.0000])\n",
      "tensor([0.0615, 0.0000, 0.0000, 0.0000])\n",
      "tensor([0.0344, 0.0000, 0.0000, 0.0000])\n",
      "tensor([0.0193, 0.0000, 0.0000, 0.0000])\n",
      "tensor([0.0108, 0.0000, 0.0000, 0.0000])\n",
      "tensor([0.0017, 0.0000, 0.0000, 0.0000])\n",
      "tensor([0.0003, 0.0000, 0.0000, 0.0000])\n",
      "tensor([0.0000e+00, 1.9344e-05, 0.0000e+00, 0.0000e+00])\n",
      "tensor([0.0000e+00, 0.0000e+00, 1.9344e-06, 0.0000e+00])\n",
      "tensor([0.0000, 0.0500, 0.0000, 0.0000])\n",
      "tensor([0.0000, 0.0080, 0.0000, 0.0000])\n",
      "tensor([0.0000, 0.0013, 0.0000, 0.0000])\n",
      "tensor([0.0000, 0.0007, 0.0000, 0.0000])\n",
      "tensor([0.0000, 0.0004, 0.0000, 0.0000])\n",
      "tensor([0.0000, 0.0002, 0.0000, 0.0000])\n",
      "tensor([0.0000, 0.0001, 0.0000, 0.0000])\n",
      "tensor([0.0000e+00, 7.0493e-05, 0.0000e+00, 0.0000e+00])\n",
      "tensor([0.0000e+00, 3.9476e-05, 0.0000e+00, 0.0000e+00])\n",
      "tensor([3.9476e-07, 0.0000e+00, 0.0000e+00, 0.0000e+00])\n",
      "tensor([0.0000e+00, 0.0000e+00, 3.9476e-08, 0.0000e+00])\n",
      "tensor([0.3500, 0.0000, 0.0000, 0.0000])\n",
      "tensor([0.1960, 0.0000, 0.0000, 0.0000])\n",
      "tensor([0.1098, 0.0000, 0.0000, 0.0000])\n",
      "tensor([0.0615, 0.0000, 0.0000, 0.0000])\n",
      "tensor([0.0344, 0.0000, 0.0000, 0.0000])\n",
      "tensor([0.0193, 0.0000, 0.0000, 0.0000])\n",
      "tensor([0.0108, 0.0000, 0.0000, 0.0000])\n",
      "tensor([0.0017, 0.0000, 0.0000, 0.0000])\n",
      "tensor([0.0003, 0.0000, 0.0000, 0.0000])\n",
      "tensor([0.0000e+00, 1.9344e-05, 0.0000e+00, 0.0000e+00])\n",
      "tensor([0.0000e+00, 0.0000e+00, 1.9344e-06, 0.0000e+00])\n",
      "tensor([0.0000, 0.0500, 0.0000, 0.0000])\n",
      "tensor([0.0000, 0.0080, 0.0000, 0.0000])\n",
      "tensor([0.0000, 0.0013, 0.0000, 0.0000])\n",
      "tensor([0.0000, 0.0007, 0.0000, 0.0000])\n",
      "tensor([0.0000, 0.0004, 0.0000, 0.0000])\n",
      "tensor([0.0000, 0.0002, 0.0000, 0.0000])\n",
      "tensor([0.0000, 0.0001, 0.0000, 0.0000])\n",
      "tensor([0.0000e+00, 7.0493e-05, 0.0000e+00, 0.0000e+00])\n",
      "tensor([0.0000e+00, 3.9476e-05, 0.0000e+00, 0.0000e+00])\n",
      "tensor([3.9476e-07, 0.0000e+00, 0.0000e+00, 0.0000e+00])\n",
      "tensor([0.0000e+00, 0.0000e+00, 3.9476e-08, 0.0000e+00])\n"
     ]
    },
    {
     "name": "stderr",
     "output_type": "stream",
     "text": [
      "100%|██████████| 4/4 [00:00<00:00, 200.24it/s]\n"
     ]
    },
    {
     "name": "stdout",
     "output_type": "stream",
     "text": [
      "tensor([0.3500, 0.0000, 0.0000, 0.0000])\n",
      "tensor([0.1960, 0.0000, 0.0000, 0.0000])\n",
      "tensor([0.1098, 0.0000, 0.0000, 0.0000])\n",
      "tensor([0.0615, 0.0000, 0.0000, 0.0000])\n",
      "tensor([0.0344, 0.0000, 0.0000, 0.0000])\n",
      "tensor([0.0193, 0.0000, 0.0000, 0.0000])\n",
      "tensor([0.0108, 0.0000, 0.0000, 0.0000])\n",
      "tensor([0.0017, 0.0000, 0.0000, 0.0000])\n",
      "tensor([0.0003, 0.0000, 0.0000, 0.0000])\n",
      "tensor([0.0000e+00, 1.9344e-05, 0.0000e+00, 0.0000e+00])\n",
      "tensor([0.0000e+00, 0.0000e+00, 1.9344e-06, 0.0000e+00])\n",
      "tensor([0.0000, 0.0500, 0.0000, 0.0000])\n",
      "tensor([0.0000, 0.0080, 0.0000, 0.0000])\n",
      "tensor([0.0000, 0.0013, 0.0000, 0.0000])\n",
      "tensor([0.0000, 0.0007, 0.0000, 0.0000])\n",
      "tensor([0.0000, 0.0004, 0.0000, 0.0000])\n",
      "tensor([0.0000, 0.0002, 0.0000, 0.0000])\n",
      "tensor([0.0000, 0.0001, 0.0000, 0.0000])\n",
      "tensor([0.0000e+00, 7.0493e-05, 0.0000e+00, 0.0000e+00])\n",
      "tensor([0.0000e+00, 3.9476e-05, 0.0000e+00, 0.0000e+00])\n",
      "tensor([3.9476e-07, 0.0000e+00, 0.0000e+00, 0.0000e+00])\n",
      "tensor([0.0000e+00, 0.0000e+00, 3.9476e-08, 0.0000e+00])\n",
      "tensor([0.3500, 0.0000, 0.0000, 0.0000])\n",
      "tensor([0.1960, 0.0000, 0.0000, 0.0000])\n",
      "tensor([0.1098, 0.0000, 0.0000, 0.0000])\n",
      "tensor([0.0615, 0.0000, 0.0000, 0.0000])\n",
      "tensor([0.0344, 0.0000, 0.0000, 0.0000])\n",
      "tensor([0.0193, 0.0000, 0.0000, 0.0000])\n",
      "tensor([0.0108, 0.0000, 0.0000, 0.0000])\n",
      "tensor([0.0017, 0.0000, 0.0000, 0.0000])\n",
      "tensor([0.0003, 0.0000, 0.0000, 0.0000])\n",
      "tensor([0.0000e+00, 1.9344e-05, 0.0000e+00, 0.0000e+00])\n",
      "tensor([0.0000e+00, 0.0000e+00, 1.9344e-06, 0.0000e+00])\n",
      "tensor([0.0000, 0.0500, 0.0000, 0.0000])\n",
      "tensor([0.0000, 0.0080, 0.0000, 0.0000])\n",
      "tensor([0.0000, 0.0013, 0.0000, 0.0000])\n",
      "tensor([0.0000, 0.0007, 0.0000, 0.0000])\n",
      "tensor([0.0000, 0.0004, 0.0000, 0.0000])\n",
      "tensor([0.0000, 0.0002, 0.0000, 0.0000])\n",
      "tensor([0.0000, 0.0001, 0.0000, 0.0000])\n",
      "tensor([0.0000e+00, 7.0493e-05, 0.0000e+00, 0.0000e+00])\n",
      "tensor([0.0000e+00, 3.9476e-05, 0.0000e+00, 0.0000e+00])\n",
      "tensor([3.9476e-07, 0.0000e+00, 0.0000e+00, 0.0000e+00])\n",
      "tensor([0.0000e+00, 0.0000e+00, 3.9476e-08, 0.0000e+00])\n"
     ]
    },
    {
     "name": "stderr",
     "output_type": "stream",
     "text": [
      "100%|██████████| 4/4 [00:00<00:00, 267.20it/s]\n",
      "INFO:eval:Cross-entropy: 1.3729 nats (= perplexity 3.947)\n",
      "INFO:hmm:Saving model to my_hmm.pkl\n",
      "INFO:hmm:Saved model to my_hmm.pkl\n",
      "INFO:test_ic:*** A, B matrices after training on icsup (should match initial params on spreadsheet [transposed])\n"
     ]
    },
    {
     "name": "stdout",
     "output_type": "stream",
     "text": [
      "tensor([0.3500, 0.0000, 0.0000, 0.0000])\n",
      "tensor([0.1960, 0.0000, 0.0000, 0.0000])\n",
      "tensor([0.1098, 0.0000, 0.0000, 0.0000])\n",
      "tensor([0.0615, 0.0000, 0.0000, 0.0000])\n",
      "tensor([0.0344, 0.0000, 0.0000, 0.0000])\n",
      "tensor([0.0193, 0.0000, 0.0000, 0.0000])\n",
      "tensor([0.0108, 0.0000, 0.0000, 0.0000])\n",
      "tensor([0.0017, 0.0000, 0.0000, 0.0000])\n",
      "tensor([0.0003, 0.0000, 0.0000, 0.0000])\n",
      "tensor([0.0000e+00, 1.9343e-05, 0.0000e+00, 0.0000e+00])\n",
      "tensor([0.0000e+00, 0.0000e+00, 1.9343e-06, 0.0000e+00])\n",
      "tensor([0.0000, 0.0500, 0.0000, 0.0000])\n",
      "tensor([0.0000, 0.0080, 0.0000, 0.0000])\n",
      "tensor([0.0000, 0.0013, 0.0000, 0.0000])\n",
      "tensor([0.0000, 0.0007, 0.0000, 0.0000])\n",
      "tensor([0.0000, 0.0004, 0.0000, 0.0000])\n",
      "tensor([0.0000, 0.0002, 0.0000, 0.0000])\n",
      "tensor([0.0000, 0.0001, 0.0000, 0.0000])\n",
      "tensor([0.0000e+00, 7.0494e-05, 0.0000e+00, 0.0000e+00])\n",
      "tensor([0.0000e+00, 3.9476e-05, 0.0000e+00, 0.0000e+00])\n",
      "tensor([3.9476e-07, 0.0000e+00, 0.0000e+00, 0.0000e+00])\n",
      "tensor([0.0000e+00, 0.0000e+00, 3.9476e-08, 0.0000e+00])\n",
      "tensor([0.3500, 0.0000, 0.0000, 0.0000])\n",
      "tensor([0.1960, 0.0000, 0.0000, 0.0000])\n",
      "tensor([0.1098, 0.0000, 0.0000, 0.0000])\n",
      "tensor([0.0615, 0.0000, 0.0000, 0.0000])\n",
      "tensor([0.0344, 0.0000, 0.0000, 0.0000])\n",
      "tensor([0.0193, 0.0000, 0.0000, 0.0000])\n",
      "tensor([0.0108, 0.0000, 0.0000, 0.0000])\n",
      "tensor([0.0017, 0.0000, 0.0000, 0.0000])\n",
      "tensor([0.0003, 0.0000, 0.0000, 0.0000])\n",
      "tensor([0.0000e+00, 1.9343e-05, 0.0000e+00, 0.0000e+00])\n",
      "tensor([0.0000e+00, 0.0000e+00, 1.9343e-06, 0.0000e+00])\n",
      "tensor([0.0000, 0.0500, 0.0000, 0.0000])\n",
      "tensor([0.0000, 0.0080, 0.0000, 0.0000])\n",
      "tensor([0.0000, 0.0013, 0.0000, 0.0000])\n",
      "tensor([0.0000, 0.0007, 0.0000, 0.0000])\n",
      "tensor([0.0000, 0.0004, 0.0000, 0.0000])\n",
      "tensor([0.0000, 0.0002, 0.0000, 0.0000])\n",
      "tensor([0.0000, 0.0001, 0.0000, 0.0000])\n",
      "tensor([0.0000e+00, 7.0494e-05, 0.0000e+00, 0.0000e+00])\n",
      "tensor([0.0000e+00, 3.9476e-05, 0.0000e+00, 0.0000e+00])\n",
      "tensor([3.9476e-07, 0.0000e+00, 0.0000e+00, 0.0000e+00])\n",
      "tensor([0.0000e+00, 0.0000e+00, 3.9476e-08, 0.0000e+00])\n",
      "Transition matrix A:\n",
      "\tC\tH\t_EOS_TAG_\t_BOS_TAG_\n",
      "C\t0.800\t0.100\t0.100\t0.000\n",
      "H\t0.100\t0.800\t0.100\t0.000\n",
      "_EOS_TAG_\t0.333\t0.333\t0.333\t0.000\n",
      "_BOS_TAG_\t0.500\t0.500\t0.000\t0.000\n",
      "\n",
      "Emission matrix B:\n",
      "\t1\t2\t3\n",
      "C\t0.700\t0.200\t0.100\n",
      "H\t0.100\t0.200\t0.700\n",
      "_EOS_TAG_\t0.000\t0.000\t0.000\n",
      "_BOS_TAG_\t0.000\t0.000\t0.000\n",
      "\n",
      "\n"
     ]
    }
   ],
   "source": [
    "log.info(\"*** Supervised training on icsup\")\n",
    "cross_entropy_loss = lambda model: model_cross_entropy(model, icsup)\n",
    "hmm.train(corpus=icsup, loss=cross_entropy_loss, tolerance=0.0001)\n",
    "log.info(\"*** A, B matrices after training on icsup (should \"\n",
    "         \"match initial params on spreadsheet [transposed])\")\n",
    "hmm.printAB()"
   ]
  },
  {
   "cell_type": "markdown",
   "metadata": {},
   "source": [
    "Now that we've reached the spreadsheet's starting guess, let's again tag\n",
    "the spreadsheet \"sentence\" (that is, the sequence of ice creams) using the\n",
    "Viterbi algorithm."
   ]
  },
  {
   "cell_type": "code",
   "execution_count": 15,
   "metadata": {},
   "outputs": [
    {
     "name": "stderr",
     "output_type": "stream",
     "text": [
      "INFO:test_ic:*** Viterbi results on icraw\n",
      "100%|██████████| 1/1 [00:00<00:00, 360.43it/s]"
     ]
    },
    {
     "name": "stdout",
     "output_type": "stream",
     "text": [
      "2/H 3/H 3/H 2/H 3/H 2/H 3/H 2/H 2/H 3/H 1/H 3/H 3/H 1/C 1/C 1/C 2/C 1/C 1/C 1/C 3/C 1/C 2/C 1/C 1/C 1/C 2/C 3/H 3/H 2/H 3/H 2/H 2/H\n"
     ]
    },
    {
     "name": "stderr",
     "output_type": "stream",
     "text": [
      "\n"
     ]
    },
    {
     "data": {
      "text/plain": [
       "0"
      ]
     },
     "execution_count": 15,
     "metadata": {},
     "output_type": "execute_result"
    }
   ],
   "source": [
    "log.info(\"*** Viterbi results on icraw\")\n",
    "icraw = TaggedCorpus(Path(\"icraw\"), tagset=icsup.tagset, vocab=icsup.vocab)\n",
    "write_tagging(hmm, icraw, Path(\"icraw_hmm.output\"))  # calls hmm.viterbi_tagging on each sentence\n",
    "os.system(\"cat icraw_hmm.output\")   # print the file we just created, and remove it"
   ]
  },
  {
   "cell_type": "markdown",
   "metadata": {},
   "source": [
    "Next let's use the forward algorithm to see what the model thinks about \n",
    "the probability of the spreadsheet \"sentence.\""
   ]
  },
  {
   "cell_type": "code",
   "execution_count": 16,
   "metadata": {},
   "outputs": [
    {
     "name": "stderr",
     "output_type": "stream",
     "text": [
      "INFO:test_ic:*** Forward algorithm on icraw (should approximately match iteration 0 on spreadsheet)\n"
     ]
    },
    {
     "name": "stdout",
     "output_type": "stream",
     "text": [
      "tensor([0.1000, 0.1000, 0.0000, 0.0000])\n",
      "tensor([0.0090, 0.0630, 0.0000, 0.0000])\n",
      "tensor([0.0013, 0.0359, 0.0000, 0.0000])\n",
      "tensor([0.0009, 0.0058, 0.0000, 0.0000])\n",
      "tensor([0.0001, 0.0033, 0.0000, 0.0000])\n",
      "tensor([8.7155e-05, 5.3034e-04, 0.0000e+00, 0.0000e+00])\n",
      "tensor([1.2276e-05, 3.0309e-04, 0.0000e+00, 0.0000e+00])\n",
      "tensor([8.0259e-06, 4.8740e-05, 0.0000e+00, 0.0000e+00])\n",
      "tensor([2.2589e-06, 7.9589e-06, 0.0000e+00, 0.0000e+00])\n",
      "tensor([2.6030e-07, 4.6151e-06, 0.0000e+00, 0.0000e+00])\n",
      "tensor([4.6883e-07, 3.7181e-07, 0.0000e+00, 0.0000e+00])\n",
      "tensor([4.1224e-08, 2.4103e-07, 0.0000e+00, 0.0000e+00])\n",
      "tensor([5.7082e-09, 1.3786e-07, 0.0000e+00, 0.0000e+00])\n",
      "tensor([1.2847e-08, 1.1086e-08, 0.0000e+00, 0.0000e+00])\n",
      "tensor([7.9704e-09, 1.0154e-09, 0.0000e+00, 0.0000e+00])\n",
      "tensor([4.5345e-09, 1.6093e-10, 0.0000e+00, 0.0000e+00])\n",
      "tensor([7.2873e-10, 1.1644e-10, 0.0000e+00, 0.0000e+00])\n",
      "tensor([4.1624e-10, 1.6602e-11, 0.0000e+00, 0.0000e+00])\n",
      "tensor([2.3426e-10, 5.4906e-12, 0.0000e+00, 0.0000e+00])\n",
      "tensor([1.3157e-10, 2.7818e-12, 0.0000e+00, 0.0000e+00])\n",
      "tensor([1.0553e-11, 1.0768e-11, 0.0000e+00, 0.0000e+00])\n",
      "tensor([6.6636e-12, 9.6695e-13, 0.0000e+00, 0.0000e+00])\n"
     ]
    },
    {
     "name": "stderr",
     "output_type": "stream",
     "text": [
      "INFO:test_ic:9.127346070247585e-19 = p(2 3 3 2 3 2 3 2 2 3 1 3 3 1 1 1 2 1 1 1 3 1 2 1 1 1 2 3 3 2 3 2 2)\n"
     ]
    },
    {
     "name": "stdout",
     "output_type": "stream",
     "text": [
      "tensor([1.0855e-12, 2.8798e-13, 0.0000e+00, 0.0000e+00])\n",
      "tensor([6.2804e-13, 3.3894e-14, 0.0000e+00, 0.0000e+00])\n",
      "tensor([3.5408e-13, 8.9920e-15, 0.0000e+00, 0.0000e+00])\n",
      "tensor([1.9891e-13, 4.2601e-15, 0.0000e+00, 0.0000e+00])\n",
      "tensor([3.1911e-14, 4.6599e-15, 0.0000e+00, 0.0000e+00])\n",
      "tensor([2.5995e-15, 4.8433e-15, 0.0000e+00, 0.0000e+00])\n",
      "tensor([2.5639e-16, 2.8942e-15, 0.0000e+00, 0.0000e+00])\n",
      "tensor([9.8907e-17, 4.6820e-16, 0.0000e+00, 0.0000e+00])\n",
      "tensor([1.2595e-17, 2.6912e-16, 0.0000e+00, 0.0000e+00])\n",
      "tensor([7.3974e-18, 4.3310e-17, 0.0000e+00, 0.0000e+00])\n",
      "tensor([2.0498e-18, 7.0776e-18, 0.0000e+00, 0.0000e+00])\n",
      "tensor([0.0000e+00, 0.0000e+00, 9.1273e-19, 0.0000e+00])\n"
     ]
    }
   ],
   "source": [
    "log.info(\"*** Forward algorithm on icraw (should approximately match iteration 0 \"\n",
    "             \"on spreadsheet)\")\n",
    "for sentence in icraw:\n",
    "    prob = math.exp(hmm.logprob(sentence, icraw))\n",
    "    log.info(f\"{prob} = p({sentence})\")"
   ]
  },
  {
   "cell_type": "markdown",
   "metadata": {},
   "source": [
    "Finally, let's reestimate on the icraw data, as the spreadsheet does.\n",
    "We'll evaluate as we go along on the *training* perplexity, and stop\n",
    "when that has more or less converged."
   ]
  },
  {
   "cell_type": "code",
   "execution_count": 17,
   "metadata": {},
   "outputs": [
    {
     "name": "stderr",
     "output_type": "stream",
     "text": [
      "INFO:test_ic:*** Reestimating on icraw (perplexity should improve on every iteration)\n",
      "100%|██████████| 1/1 [00:00<00:00, 83.47it/s]\n",
      "INFO:eval:Cross-entropy: 1.2217 nats (= perplexity 3.393)\n"
     ]
    },
    {
     "name": "stdout",
     "output_type": "stream",
     "text": [
      "tensor([0.1000, 0.1000, 0.0000, 0.0000])\n",
      "tensor([0.0090, 0.0630, 0.0000, 0.0000])\n",
      "tensor([0.0013, 0.0359, 0.0000, 0.0000])\n",
      "tensor([0.0009, 0.0058, 0.0000, 0.0000])\n",
      "tensor([0.0001, 0.0033, 0.0000, 0.0000])\n",
      "tensor([8.7155e-05, 5.3034e-04, 0.0000e+00, 0.0000e+00])\n",
      "tensor([1.2276e-05, 3.0309e-04, 0.0000e+00, 0.0000e+00])\n",
      "tensor([8.0259e-06, 4.8740e-05, 0.0000e+00, 0.0000e+00])\n",
      "tensor([2.2589e-06, 7.9589e-06, 0.0000e+00, 0.0000e+00])\n",
      "tensor([2.6030e-07, 4.6151e-06, 0.0000e+00, 0.0000e+00])\n",
      "tensor([4.6883e-07, 3.7181e-07, 0.0000e+00, 0.0000e+00])\n",
      "tensor([4.1224e-08, 2.4103e-07, 0.0000e+00, 0.0000e+00])\n",
      "tensor([5.7082e-09, 1.3786e-07, 0.0000e+00, 0.0000e+00])\n",
      "tensor([1.2847e-08, 1.1086e-08, 0.0000e+00, 0.0000e+00])\n",
      "tensor([7.9704e-09, 1.0154e-09, 0.0000e+00, 0.0000e+00])\n",
      "tensor([4.5345e-09, 1.6093e-10, 0.0000e+00, 0.0000e+00])\n",
      "tensor([7.2873e-10, 1.1644e-10, 0.0000e+00, 0.0000e+00])\n",
      "tensor([4.1624e-10, 1.6602e-11, 0.0000e+00, 0.0000e+00])\n",
      "tensor([2.3426e-10, 5.4906e-12, 0.0000e+00, 0.0000e+00])\n",
      "tensor([1.3157e-10, 2.7818e-12, 0.0000e+00, 0.0000e+00])\n",
      "tensor([1.0553e-11, 1.0768e-11, 0.0000e+00, 0.0000e+00])\n",
      "tensor([6.6636e-12, 9.6695e-13, 0.0000e+00, 0.0000e+00])\n",
      "tensor([1.0855e-12, 2.8798e-13, 0.0000e+00, 0.0000e+00])\n",
      "tensor([6.2804e-13, 3.3894e-14, 0.0000e+00, 0.0000e+00])\n",
      "tensor([3.5408e-13, 8.9920e-15, 0.0000e+00, 0.0000e+00])\n",
      "tensor([1.9891e-13, 4.2601e-15, 0.0000e+00, 0.0000e+00])\n",
      "tensor([3.1911e-14, 4.6599e-15, 0.0000e+00, 0.0000e+00])\n",
      "tensor([2.5995e-15, 4.8433e-15, 0.0000e+00, 0.0000e+00])\n",
      "tensor([2.5639e-16, 2.8942e-15, 0.0000e+00, 0.0000e+00])\n",
      "tensor([9.8907e-17, 4.6820e-16, 0.0000e+00, 0.0000e+00])\n",
      "tensor([1.2595e-17, 2.6912e-16, 0.0000e+00, 0.0000e+00])\n",
      "tensor([7.3974e-18, 4.3310e-17, 0.0000e+00, 0.0000e+00])\n",
      "tensor([2.0498e-18, 7.0776e-18, 0.0000e+00, 0.0000e+00])\n",
      "tensor([0.0000e+00, 0.0000e+00, 9.1273e-19, 0.0000e+00])\n"
     ]
    },
    {
     "name": "stderr",
     "output_type": "stream",
     "text": [
      "  0%|          | 0/1 [00:00<?, ?it/s]"
     ]
    },
    {
     "name": "stdout",
     "output_type": "stream",
     "text": [
      "tensor([0.1000, 0.1000, 0.0000, 0.0000])\n"
     ]
    },
    {
     "name": "stderr",
     "output_type": "stream",
     "text": [
      "100%|██████████| 1/1 [00:00<00:00, 64.96it/s]\n"
     ]
    },
    {
     "name": "stdout",
     "output_type": "stream",
     "text": [
      "tensor([0.0090, 0.0630, 0.0000, 0.0000])\n",
      "tensor([0.0013, 0.0359, 0.0000, 0.0000])\n",
      "tensor([0.0009, 0.0058, 0.0000, 0.0000])\n",
      "tensor([0.0001, 0.0033, 0.0000, 0.0000])\n",
      "tensor([8.7155e-05, 5.3034e-04, 0.0000e+00, 0.0000e+00])\n",
      "tensor([1.2276e-05, 3.0309e-04, 0.0000e+00, 0.0000e+00])\n",
      "tensor([8.0259e-06, 4.8740e-05, 0.0000e+00, 0.0000e+00])\n",
      "tensor([2.2589e-06, 7.9589e-06, 0.0000e+00, 0.0000e+00])\n",
      "tensor([2.6030e-07, 4.6151e-06, 0.0000e+00, 0.0000e+00])\n",
      "tensor([4.6883e-07, 3.7181e-07, 0.0000e+00, 0.0000e+00])\n",
      "tensor([4.1224e-08, 2.4103e-07, 0.0000e+00, 0.0000e+00])\n",
      "tensor([5.7082e-09, 1.3786e-07, 0.0000e+00, 0.0000e+00])\n",
      "tensor([1.2847e-08, 1.1086e-08, 0.0000e+00, 0.0000e+00])\n",
      "tensor([7.9704e-09, 1.0154e-09, 0.0000e+00, 0.0000e+00])\n",
      "tensor([4.5345e-09, 1.6093e-10, 0.0000e+00, 0.0000e+00])\n",
      "tensor([7.2873e-10, 1.1644e-10, 0.0000e+00, 0.0000e+00])\n",
      "tensor([4.1624e-10, 1.6602e-11, 0.0000e+00, 0.0000e+00])\n",
      "tensor([2.3426e-10, 5.4906e-12, 0.0000e+00, 0.0000e+00])\n",
      "tensor([1.3157e-10, 2.7818e-12, 0.0000e+00, 0.0000e+00])\n",
      "tensor([1.0553e-11, 1.0768e-11, 0.0000e+00, 0.0000e+00])\n",
      "tensor([6.6636e-12, 9.6695e-13, 0.0000e+00, 0.0000e+00])\n",
      "tensor([1.0855e-12, 2.8798e-13, 0.0000e+00, 0.0000e+00])\n",
      "tensor([6.2804e-13, 3.3894e-14, 0.0000e+00, 0.0000e+00])\n",
      "tensor([3.5408e-13, 8.9920e-15, 0.0000e+00, 0.0000e+00])\n",
      "tensor([1.9891e-13, 4.2601e-15, 0.0000e+00, 0.0000e+00])\n",
      "tensor([3.1911e-14, 4.6599e-15, 0.0000e+00, 0.0000e+00])\n",
      "tensor([2.5995e-15, 4.8433e-15, 0.0000e+00, 0.0000e+00])\n",
      "tensor([2.5639e-16, 2.8942e-15, 0.0000e+00, 0.0000e+00])\n",
      "tensor([9.8907e-17, 4.6820e-16, 0.0000e+00, 0.0000e+00])\n",
      "tensor([1.2595e-17, 2.6912e-16, 0.0000e+00, 0.0000e+00])\n",
      "tensor([7.3974e-18, 4.3310e-17, 0.0000e+00, 0.0000e+00])\n",
      "tensor([2.0498e-18, 7.0776e-18, 0.0000e+00, 0.0000e+00])\n",
      "tensor([0.0000e+00, 0.0000e+00, 9.1273e-19, 0.0000e+00])\n"
     ]
    },
    {
     "name": "stderr",
     "output_type": "stream",
     "text": [
      "  0%|          | 0/1 [00:00<?, ?it/s]"
     ]
    },
    {
     "name": "stdout",
     "output_type": "stream",
     "text": [
      "tensor([0.0282, 0.3702, 0.0000, 0.0000])\n",
      "tensor([0.0062, 0.1670, 0.0000, 0.0000])\n",
      "tensor([0.0022, 0.0750, 0.0000, 0.0000])\n",
      "tensor([0.0019, 0.0277, 0.0000, 0.0000])\n",
      "tensor([0.0004, 0.0125, 0.0000, 0.0000])\n",
      "tensor([0.0003, 0.0046, 0.0000, 0.0000])\n",
      "tensor([7.5638e-05, 2.0793e-03, 0.0000e+00, 0.0000e+00])\n",
      "tensor([5.6590e-05, 7.6821e-04, 0.0000e+00, 0.0000e+00])\n",
      "tensor([2.6396e-05, 2.8514e-04, 0.0000e+00, 0.0000e+00])\n",
      "tensor([5.1813e-06, 1.2891e-04, 0.0000e+00, 0.0000e+00])\n",
      "tensor([1.1138e-05, 6.5433e-06, 0.0000e+00, 0.0000e+00])\n"
     ]
    },
    {
     "name": "stderr",
     "output_type": "stream",
     "text": [
      "100%|██████████| 1/1 [00:00<00:00, 76.11it/s]\n",
      "INFO:eval:Cross-entropy: 1.0807 nats (= perplexity 2.947)\n"
     ]
    },
    {
     "name": "stdout",
     "output_type": "stream",
     "text": [
      "tensor([1.0844e-06, 3.5510e-06, 0.0000e+00, 0.0000e+00])\n",
      "tensor([1.3380e-07, 1.6479e-06, 0.0000e+00, 0.0000e+00])\n",
      "tensor([1.8241e-07, 8.4074e-08, 0.0000e+00, 0.0000e+00])\n",
      "tensor([1.1333e-07, 5.4060e-09, 0.0000e+00, 0.0000e+00])\n",
      "tensor([6.7479e-08, 9.9381e-10, 0.0000e+00, 0.0000e+00])\n",
      "tensor([1.2951e-08, 3.4909e-09, 0.0000e+00, 0.0000e+00])\n",
      "tensor([7.8912e-09, 2.5867e-10, 0.0000e+00, 0.0000e+00])\n",
      "tensor([4.6913e-09, 6.3253e-11, 0.0000e+00, 0.0000e+00])\n",
      "tensor([2.7833e-09, 3.3032e-11, 0.0000e+00, 0.0000e+00])\n",
      "tensor([2.5546e-10, 1.7141e-10, 0.0000e+00, 0.0000e+00])\n",
      "tensor([1.6208e-10, 1.0281e-11, 0.0000e+00, 0.0000e+00])\n",
      "tensor([3.1267e-11, 1.1288e-11, 0.0000e+00, 0.0000e+00])\n",
      "tensor([1.9230e-11, 7.6892e-13, 0.0000e+00, 0.0000e+00])\n",
      "tensor([1.1441e-11, 1.6114e-13, 0.0000e+00, 0.0000e+00])\n",
      "tensor([6.7881e-12, 8.0904e-14, 0.0000e+00, 0.0000e+00])\n",
      "tensor([1.3024e-12, 3.4416e-13, 0.0000e+00, 0.0000e+00])\n",
      "tensor([1.2273e-13, 2.2711e-13, 0.0000e+00, 0.0000e+00])\n",
      "tensor([1.3450e-14, 1.0840e-13, 0.0000e+00, 0.0000e+00])\n",
      "tensor([4.7719e-15, 4.0489e-14, 0.0000e+00, 0.0000e+00])\n",
      "tensor([8.2956e-16, 1.8363e-14, 0.0000e+00, 0.0000e+00])\n",
      "tensor([5.3071e-16, 6.7916e-15, 0.0000e+00, 0.0000e+00])\n",
      "tensor([2.3919e-16, 2.5223e-15, 0.0000e+00, 0.0000e+00])\n",
      "tensor([0.0000e+00, 0.0000e+00, 1.1041e-16, 0.0000e+00])\n"
     ]
    },
    {
     "name": "stderr",
     "output_type": "stream",
     "text": [
      "  0%|          | 0/1 [00:00<?, ?it/s]"
     ]
    },
    {
     "name": "stdout",
     "output_type": "stream",
     "text": [
      "tensor([0.0282, 0.3702, 0.0000, 0.0000])\n",
      "tensor([0.0062, 0.1670, 0.0000, 0.0000])\n",
      "tensor([0.0022, 0.0750, 0.0000, 0.0000])\n",
      "tensor([0.0019, 0.0277, 0.0000, 0.0000])\n",
      "tensor([0.0004, 0.0125, 0.0000, 0.0000])\n"
     ]
    },
    {
     "name": "stderr",
     "output_type": "stream",
     "text": [
      "100%|██████████| 1/1 [00:00<00:00, 64.92it/s]\n"
     ]
    },
    {
     "name": "stdout",
     "output_type": "stream",
     "text": [
      "tensor([0.0003, 0.0046, 0.0000, 0.0000])\n",
      "tensor([7.5638e-05, 2.0793e-03, 0.0000e+00, 0.0000e+00])\n",
      "tensor([5.6590e-05, 7.6821e-04, 0.0000e+00, 0.0000e+00])\n",
      "tensor([2.6396e-05, 2.8514e-04, 0.0000e+00, 0.0000e+00])\n",
      "tensor([5.1813e-06, 1.2891e-04, 0.0000e+00, 0.0000e+00])\n",
      "tensor([1.1138e-05, 6.5433e-06, 0.0000e+00, 0.0000e+00])\n",
      "tensor([1.0844e-06, 3.5510e-06, 0.0000e+00, 0.0000e+00])\n",
      "tensor([1.3380e-07, 1.6479e-06, 0.0000e+00, 0.0000e+00])\n",
      "tensor([1.8241e-07, 8.4074e-08, 0.0000e+00, 0.0000e+00])\n",
      "tensor([1.1333e-07, 5.4060e-09, 0.0000e+00, 0.0000e+00])\n",
      "tensor([6.7479e-08, 9.9381e-10, 0.0000e+00, 0.0000e+00])\n",
      "tensor([1.2951e-08, 3.4909e-09, 0.0000e+00, 0.0000e+00])\n",
      "tensor([7.8912e-09, 2.5867e-10, 0.0000e+00, 0.0000e+00])\n",
      "tensor([4.6913e-09, 6.3253e-11, 0.0000e+00, 0.0000e+00])\n",
      "tensor([2.7833e-09, 3.3032e-11, 0.0000e+00, 0.0000e+00])\n",
      "tensor([2.5546e-10, 1.7141e-10, 0.0000e+00, 0.0000e+00])\n",
      "tensor([1.6208e-10, 1.0281e-11, 0.0000e+00, 0.0000e+00])\n",
      "tensor([3.1267e-11, 1.1288e-11, 0.0000e+00, 0.0000e+00])\n",
      "tensor([1.9230e-11, 7.6892e-13, 0.0000e+00, 0.0000e+00])\n",
      "tensor([1.1441e-11, 1.6114e-13, 0.0000e+00, 0.0000e+00])\n",
      "tensor([6.7881e-12, 8.0904e-14, 0.0000e+00, 0.0000e+00])\n",
      "tensor([1.3024e-12, 3.4416e-13, 0.0000e+00, 0.0000e+00])\n",
      "tensor([1.2273e-13, 2.2711e-13, 0.0000e+00, 0.0000e+00])\n",
      "tensor([1.3450e-14, 1.0840e-13, 0.0000e+00, 0.0000e+00])\n",
      "tensor([4.7719e-15, 4.0489e-14, 0.0000e+00, 0.0000e+00])\n",
      "tensor([8.2956e-16, 1.8363e-14, 0.0000e+00, 0.0000e+00])\n",
      "tensor([5.3071e-16, 6.7916e-15, 0.0000e+00, 0.0000e+00])\n",
      "tensor([2.3919e-16, 2.5223e-15, 0.0000e+00, 0.0000e+00])\n",
      "tensor([0.0000e+00, 0.0000e+00, 1.1041e-16, 0.0000e+00])\n"
     ]
    },
    {
     "name": "stderr",
     "output_type": "stream",
     "text": [
      "  0%|          | 0/1 [00:00<?, ?it/s]"
     ]
    },
    {
     "name": "stdout",
     "output_type": "stream",
     "text": [
      "tensor([0.0021, 0.4582, 0.0000, 0.0000])\n",
      "tensor([0.0049, 0.1979, 0.0000, 0.0000])\n",
      "tensor([0.0026, 0.0857, 0.0000, 0.0000])\n",
      "tensor([0.0015, 0.0347, 0.0000, 0.0000])\n",
      "tensor([0.0005, 0.0150, 0.0000, 0.0000])\n"
     ]
    },
    {
     "name": "stderr",
     "output_type": "stream",
     "text": [
      "100%|██████████| 1/1 [00:00<00:00, 91.24it/s]\n",
      "INFO:eval:Cross-entropy: 1.0576 nats (= perplexity 2.879)\n"
     ]
    },
    {
     "name": "stdout",
     "output_type": "stream",
     "text": [
      "tensor([0.0003, 0.0061, 0.0000, 0.0000])\n",
      "tensor([9.4840e-05, 2.6448e-03, 0.0000e+00, 0.0000e+00])\n",
      "tensor([4.9476e-05, 1.0718e-03, 0.0000e+00, 0.0000e+00])\n",
      "tensor([2.1762e-05, 4.3483e-04, 0.0000e+00, 0.0000e+00])\n",
      "tensor([6.9757e-06, 1.8872e-04, 0.0000e+00, 0.0000e+00])\n",
      "tensor([1.4482e-05, 6.6381e-06, 0.0000e+00, 0.0000e+00])\n",
      "tensor([1.7895e-06, 3.5386e-06, 0.0000e+00, 0.0000e+00])\n",
      "tensor([2.4855e-07, 1.6107e-06, 0.0000e+00, 0.0000e+00])\n",
      "tensor([2.4270e-07, 5.7369e-08, 0.0000e+00, 0.0000e+00])\n",
      "tensor([1.5599e-07, 2.9255e-09, 0.0000e+00, 0.0000e+00])\n",
      "tensor([9.8440e-08, 6.9091e-10, 0.0000e+00, 0.0000e+00])\n",
      "tensor([1.5268e-08, 4.5576e-09, 0.0000e+00, 0.0000e+00])\n",
      "tensor([9.8636e-09, 2.1727e-10, 0.0000e+00, 0.0000e+00])\n",
      "tensor([6.2265e-09, 4.4820e-11, 0.0000e+00, 0.0000e+00])\n",
      "tensor([3.9257e-09, 2.5058e-11, 0.0000e+00, 0.0000e+00])\n",
      "tensor([4.6719e-10, 1.9327e-10, 0.0000e+00, 0.0000e+00])\n",
      "tensor([3.0470e-10, 8.5338e-12, 0.0000e+00, 0.0000e+00])\n",
      "tensor([4.7342e-11, 1.6689e-11, 0.0000e+00, 0.0000e+00])\n",
      "tensor([3.0721e-11, 7.6328e-13, 0.0000e+00, 0.0000e+00])\n",
      "tensor([1.9398e-11, 1.4263e-13, 0.0000e+00, 0.0000e+00])\n",
      "tensor([1.2230e-11, 7.8171e-14, 0.0000e+00, 0.0000e+00])\n",
      "tensor([1.8967e-12, 5.6313e-13, 0.0000e+00, 0.0000e+00])\n",
      "tensor([2.3129e-13, 3.3125e-13, 0.0000e+00, 0.0000e+00])\n",
      "tensor([3.0852e-14, 1.5374e-13, 0.0000e+00, 0.0000e+00])\n",
      "tensor([6.8038e-15, 6.3405e-14, 0.0000e+00, 0.0000e+00])\n",
      "tensor([1.4490e-15, 2.7687e-14, 0.0000e+00, 0.0000e+00])\n",
      "tensor([5.8864e-16, 1.1240e-14, 0.0000e+00, 0.0000e+00])\n",
      "tensor([2.3903e-16, 4.5630e-15, 0.0000e+00, 0.0000e+00])\n",
      "tensor([0.0000e+00, 0.0000e+00, 2.4198e-16, 0.0000e+00])\n"
     ]
    },
    {
     "name": "stderr",
     "output_type": "stream",
     "text": [
      "100%|██████████| 1/1 [00:00<00:00, 67.72it/s]\n"
     ]
    },
    {
     "name": "stdout",
     "output_type": "stream",
     "text": [
      "tensor([0.0021, 0.4582, 0.0000, 0.0000])\n",
      "tensor([0.0049, 0.1979, 0.0000, 0.0000])\n",
      "tensor([0.0026, 0.0857, 0.0000, 0.0000])\n",
      "tensor([0.0015, 0.0347, 0.0000, 0.0000])\n",
      "tensor([0.0005, 0.0150, 0.0000, 0.0000])\n",
      "tensor([0.0003, 0.0061, 0.0000, 0.0000])\n",
      "tensor([9.4840e-05, 2.6448e-03, 0.0000e+00, 0.0000e+00])\n",
      "tensor([4.9476e-05, 1.0718e-03, 0.0000e+00, 0.0000e+00])\n",
      "tensor([2.1762e-05, 4.3483e-04, 0.0000e+00, 0.0000e+00])\n",
      "tensor([6.9757e-06, 1.8872e-04, 0.0000e+00, 0.0000e+00])\n",
      "tensor([1.4482e-05, 6.6381e-06, 0.0000e+00, 0.0000e+00])\n",
      "tensor([1.7895e-06, 3.5386e-06, 0.0000e+00, 0.0000e+00])\n",
      "tensor([2.4855e-07, 1.6107e-06, 0.0000e+00, 0.0000e+00])\n",
      "tensor([2.4270e-07, 5.7369e-08, 0.0000e+00, 0.0000e+00])\n",
      "tensor([1.5599e-07, 2.9255e-09, 0.0000e+00, 0.0000e+00])\n",
      "tensor([9.8440e-08, 6.9091e-10, 0.0000e+00, 0.0000e+00])\n",
      "tensor([1.5268e-08, 4.5576e-09, 0.0000e+00, 0.0000e+00])\n",
      "tensor([9.8636e-09, 2.1727e-10, 0.0000e+00, 0.0000e+00])\n",
      "tensor([6.2265e-09, 4.4820e-11, 0.0000e+00, 0.0000e+00])\n",
      "tensor([3.9257e-09, 2.5058e-11, 0.0000e+00, 0.0000e+00])\n",
      "tensor([4.6719e-10, 1.9327e-10, 0.0000e+00, 0.0000e+00])\n",
      "tensor([3.0470e-10, 8.5338e-12, 0.0000e+00, 0.0000e+00])\n",
      "tensor([4.7342e-11, 1.6689e-11, 0.0000e+00, 0.0000e+00])\n",
      "tensor([3.0721e-11, 7.6328e-13, 0.0000e+00, 0.0000e+00])\n",
      "tensor([1.9398e-11, 1.4263e-13, 0.0000e+00, 0.0000e+00])\n",
      "tensor([1.2230e-11, 7.8171e-14, 0.0000e+00, 0.0000e+00])\n",
      "tensor([1.8967e-12, 5.6313e-13, 0.0000e+00, 0.0000e+00])\n",
      "tensor([2.3129e-13, 3.3125e-13, 0.0000e+00, 0.0000e+00])\n",
      "tensor([3.0852e-14, 1.5374e-13, 0.0000e+00, 0.0000e+00])\n",
      "tensor([6.8038e-15, 6.3405e-14, 0.0000e+00, 0.0000e+00])\n",
      "tensor([1.4490e-15, 2.7687e-14, 0.0000e+00, 0.0000e+00])\n",
      "tensor([5.8864e-16, 1.1240e-14, 0.0000e+00, 0.0000e+00])\n",
      "tensor([2.3903e-16, 4.5630e-15, 0.0000e+00, 0.0000e+00])\n",
      "tensor([0.0000e+00, 0.0000e+00, 2.4198e-16, 0.0000e+00])\n"
     ]
    },
    {
     "name": "stderr",
     "output_type": "stream",
     "text": [
      "  0%|          | 0/1 [00:00<?, ?it/s]"
     ]
    },
    {
     "name": "stdout",
     "output_type": "stream",
     "text": [
      "tensor([1.0555e-04, 4.8891e-01, 0.0000e+00, 0.0000e+00])\n",
      "tensor([0.0057, 0.2065, 0.0000, 0.0000])\n",
      "tensor([0.0032, 0.0874, 0.0000, 0.0000])\n",
      "tensor([0.0014, 0.0374, 0.0000, 0.0000])\n"
     ]
    },
    {
     "name": "stderr",
     "output_type": "stream",
     "text": [
      "100%|██████████| 1/1 [00:00<00:00, 88.55it/s]\n",
      "INFO:eval:Cross-entropy: 1.0486 nats (= perplexity 2.854)\n"
     ]
    },
    {
     "name": "stdout",
     "output_type": "stream",
     "text": [
      "tensor([0.0006, 0.0159, 0.0000, 0.0000])\n",
      "tensor([0.0003, 0.0068, 0.0000, 0.0000])\n",
      "tensor([0.0001, 0.0029, 0.0000, 0.0000])\n",
      "tensor([4.9334e-05, 1.2321e-03, 0.0000e+00, 0.0000e+00])\n",
      "tensor([2.0895e-05, 5.2737e-04, 0.0000e+00, 0.0000e+00])\n",
      "tensor([9.2132e-06, 2.2356e-04, 0.0000e+00, 0.0000e+00])\n",
      "tensor([1.6645e-05, 5.1273e-06, 0.0000e+00, 0.0000e+00])\n",
      "tensor([2.5379e-06, 2.8173e-06, 0.0000e+00, 0.0000e+00])\n",
      "tensor([4.1051e-07, 1.2893e-06, 0.0000e+00, 0.0000e+00])\n",
      "tensor([3.1975e-07, 3.0327e-08, 0.0000e+00, 0.0000e+00])\n",
      "tensor([2.0167e-07, 1.3701e-09, 0.0000e+00, 0.0000e+00])\n",
      "tensor([1.2634e-07, 4.5843e-10, 0.0000e+00, 0.0000e+00])\n",
      "tensor([1.8202e-08, 5.1897e-09, 0.0000e+00, 0.0000e+00])\n",
      "tensor([1.1649e-08, 1.5712e-10, 0.0000e+00, 0.0000e+00])\n",
      "tensor([7.3013e-09, 2.8261e-11, 0.0000e+00, 0.0000e+00])\n",
      "tensor([4.5728e-09, 1.6109e-11, 0.0000e+00, 0.0000e+00])\n",
      "tensor([6.8111e-10, 1.8584e-10, 0.0000e+00, 0.0000e+00])\n",
      "tensor([4.3550e-10, 5.6885e-12, 0.0000e+00, 0.0000e+00])\n",
      "tensor([6.2790e-11, 1.9641e-11, 0.0000e+00, 0.0000e+00])\n",
      "tensor([4.0269e-11, 5.8174e-13, 0.0000e+00, 0.0000e+00])\n",
      "tensor([2.5241e-11, 9.8577e-14, 0.0000e+00, 0.0000e+00])\n",
      "tensor([1.5809e-11, 5.5711e-14, 0.0000e+00, 0.0000e+00])\n",
      "tensor([2.2776e-12, 6.4868e-13, 0.0000e+00, 0.0000e+00])\n",
      "tensor([3.4666e-13, 3.6315e-13, 0.0000e+00, 0.0000e+00])\n",
      "tensor([5.5823e-14, 1.6696e-13, 0.0000e+00, 0.0000e+00])\n",
      "tensor([9.9089e-15, 7.3405e-14, 0.0000e+00, 0.0000e+00])\n",
      "tensor([2.3248e-15, 3.1392e-14, 0.0000e+00, 0.0000e+00])\n",
      "tensor([6.8618e-16, 1.3479e-14, 0.0000e+00, 0.0000e+00])\n",
      "tensor([2.4968e-16, 5.7752e-15, 0.0000e+00, 0.0000e+00])\n",
      "tensor([0.0000e+00, 0.0000e+00, 3.2879e-16, 0.0000e+00])\n"
     ]
    },
    {
     "name": "stderr",
     "output_type": "stream",
     "text": [
      "  0%|          | 0/1 [00:00<?, ?it/s]"
     ]
    },
    {
     "name": "stdout",
     "output_type": "stream",
     "text": [
      "tensor([1.0555e-04, 4.8891e-01, 0.0000e+00, 0.0000e+00])\n",
      "tensor([0.0057, 0.2065, 0.0000, 0.0000])\n",
      "tensor([0.0032, 0.0874, 0.0000, 0.0000])\n",
      "tensor([0.0014, 0.0374, 0.0000, 0.0000])\n",
      "tensor([0.0006, 0.0159, 0.0000, 0.0000])\n",
      "tensor([0.0003, 0.0068, 0.0000, 0.0000])\n",
      "tensor([0.0001, 0.0029, 0.0000, 0.0000])\n",
      "tensor([4.9334e-05, 1.2321e-03, 0.0000e+00, 0.0000e+00])\n",
      "tensor([2.0895e-05, 5.2737e-04, 0.0000e+00, 0.0000e+00])\n",
      "tensor([9.2132e-06, 2.2356e-04, 0.0000e+00, 0.0000e+00])\n",
      "tensor([1.6645e-05, 5.1273e-06, 0.0000e+00, 0.0000e+00])\n",
      "tensor([2.5379e-06, 2.8173e-06, 0.0000e+00, 0.0000e+00])\n",
      "tensor([4.1051e-07, 1.2893e-06, 0.0000e+00, 0.0000e+00])\n",
      "tensor([3.1975e-07, 3.0327e-08, 0.0000e+00, 0.0000e+00])\n",
      "tensor([2.0167e-07, 1.3701e-09, 0.0000e+00, 0.0000e+00])\n",
      "tensor([1.2634e-07, 4.5843e-10, 0.0000e+00, 0.0000e+00])\n",
      "tensor([1.8202e-08, 5.1897e-09, 0.0000e+00, 0.0000e+00])\n",
      "tensor([1.1649e-08, 1.5712e-10, 0.0000e+00, 0.0000e+00])\n",
      "tensor([7.3013e-09, 2.8261e-11, 0.0000e+00, 0.0000e+00])\n",
      "tensor([4.5728e-09, 1.6109e-11, 0.0000e+00, 0.0000e+00])\n"
     ]
    },
    {
     "name": "stderr",
     "output_type": "stream",
     "text": [
      "100%|██████████| 1/1 [00:00<00:00, 60.23it/s]\n"
     ]
    },
    {
     "name": "stdout",
     "output_type": "stream",
     "text": [
      "tensor([6.8111e-10, 1.8584e-10, 0.0000e+00, 0.0000e+00])\n",
      "tensor([4.3550e-10, 5.6885e-12, 0.0000e+00, 0.0000e+00])\n",
      "tensor([6.2790e-11, 1.9641e-11, 0.0000e+00, 0.0000e+00])\n",
      "tensor([4.0269e-11, 5.8174e-13, 0.0000e+00, 0.0000e+00])\n",
      "tensor([2.5241e-11, 9.8577e-14, 0.0000e+00, 0.0000e+00])\n",
      "tensor([1.5809e-11, 5.5711e-14, 0.0000e+00, 0.0000e+00])\n",
      "tensor([2.2776e-12, 6.4868e-13, 0.0000e+00, 0.0000e+00])\n",
      "tensor([3.4666e-13, 3.6315e-13, 0.0000e+00, 0.0000e+00])\n",
      "tensor([5.5823e-14, 1.6696e-13, 0.0000e+00, 0.0000e+00])\n",
      "tensor([9.9089e-15, 7.3405e-14, 0.0000e+00, 0.0000e+00])\n",
      "tensor([2.3248e-15, 3.1392e-14, 0.0000e+00, 0.0000e+00])\n",
      "tensor([6.8618e-16, 1.3479e-14, 0.0000e+00, 0.0000e+00])\n",
      "tensor([2.4968e-16, 5.7752e-15, 0.0000e+00, 0.0000e+00])\n",
      "tensor([0.0000e+00, 0.0000e+00, 3.2879e-16, 0.0000e+00])\n"
     ]
    },
    {
     "name": "stderr",
     "output_type": "stream",
     "text": [
      "100%|██████████| 1/1 [00:00<00:00, 95.10it/s]"
     ]
    },
    {
     "name": "stdout",
     "output_type": "stream",
     "text": [
      "tensor([4.6573e-06, 5.0880e-01, 0.0000e+00, 0.0000e+00])\n",
      "tensor([0.0067, 0.2107, 0.0000, 0.0000])\n",
      "tensor([0.0039, 0.0875, 0.0000, 0.0000])\n",
      "tensor([0.0015, 0.0389, 0.0000, 0.0000])\n",
      "tensor([0.0008, 0.0162, 0.0000, 0.0000])\n",
      "tensor([0.0003, 0.0072, 0.0000, 0.0000])\n",
      "tensor([0.0001, 0.0030, 0.0000, 0.0000])\n",
      "tensor([5.1848e-05, 1.3250e-03, 0.0000e+00, 0.0000e+00])\n",
      "tensor([2.1456e-05, 5.8835e-04, 0.0000e+00, 0.0000e+00])\n",
      "tensor([1.1388e-05, 2.4442e-04, 0.0000e+00, 0.0000e+00])\n",
      "tensor([1.8453e-05, 3.2109e-06, 0.0000e+00, 0.0000e+00])\n",
      "tensor([3.2113e-06, 1.9732e-06, 0.0000e+00, 0.0000e+00])\n",
      "tensor([5.7737e-07, 9.2915e-07, 0.0000e+00, 0.0000e+00])\n",
      "tensor([3.9842e-07, 1.2795e-08, 0.0000e+00, 0.0000e+00])\n",
      "tensor([2.4549e-07, 6.0631e-10, 0.0000e+00, 0.0000e+00])\n",
      "tensor([1.5092e-07, 2.7836e-10, 0.0000e+00, 0.0000e+00])\n",
      "tensor([2.1187e-08, 5.7460e-09, 0.0000e+00, 0.0000e+00])\n",
      "tensor([1.3292e-08, 9.8530e-11, 0.0000e+00, 0.0000e+00])\n",
      "tensor([8.1747e-09, 1.5931e-11, 0.0000e+00, 0.0000e+00])\n",
      "tensor([5.0254e-09, 9.2135e-12, 0.0000e+00, 0.0000e+00])\n",
      "tensor([8.6322e-10, 1.7902e-10, 0.0000e+00, 0.0000e+00])\n",
      "tensor([5.3897e-10, 3.2935e-12, 0.0000e+00, 0.0000e+00])\n",
      "tensor([7.5688e-11, 2.1538e-11, 0.0000e+00, 0.0000e+00])\n",
      "tensor([4.7532e-11, 3.6521e-13, 0.0000e+00, 0.0000e+00])\n",
      "tensor([2.9233e-11, 5.7139e-14, 0.0000e+00, 0.0000e+00])\n",
      "tensor([1.7971e-11, 3.2950e-14, 0.0000e+00, 0.0000e+00])\n",
      "tensor([2.5228e-12, 6.8411e-13, 0.0000e+00, 0.0000e+00])\n",
      "tensor([4.4225e-13, 3.7128e-13, 0.0000e+00, 0.0000e+00])\n",
      "tensor([8.0817e-14, 1.6919e-13, 0.0000e+00, 0.0000e+00])\n",
      "tensor([1.3154e-14, 7.7889e-14, 0.0000e+00, 0.0000e+00])\n",
      "tensor([3.2790e-15, 3.2717e-14, 0.0000e+00, 0.0000e+00])\n",
      "tensor([8.1034e-16, 1.4602e-14, 0.0000e+00, 0.0000e+00])\n",
      "tensor([2.6999e-16, 6.4925e-15, 0.0000e+00, 0.0000e+00])\n",
      "tensor([0.0000e+00, 0.0000e+00, 3.8653e-16, 0.0000e+00])\n"
     ]
    },
    {
     "name": "stderr",
     "output_type": "stream",
     "text": [
      "\n",
      "INFO:eval:Cross-entropy: 1.0438 nats (= perplexity 2.840)\n",
      "100%|██████████| 1/1 [00:00<00:00, 58.22it/s]\n"
     ]
    },
    {
     "name": "stdout",
     "output_type": "stream",
     "text": [
      "tensor([4.6573e-06, 5.0880e-01, 0.0000e+00, 0.0000e+00])\n",
      "tensor([0.0067, 0.2107, 0.0000, 0.0000])\n",
      "tensor([0.0039, 0.0875, 0.0000, 0.0000])\n",
      "tensor([0.0015, 0.0389, 0.0000, 0.0000])\n",
      "tensor([0.0008, 0.0162, 0.0000, 0.0000])\n",
      "tensor([0.0003, 0.0072, 0.0000, 0.0000])\n",
      "tensor([0.0001, 0.0030, 0.0000, 0.0000])\n",
      "tensor([5.1848e-05, 1.3250e-03, 0.0000e+00, 0.0000e+00])\n",
      "tensor([2.1456e-05, 5.8835e-04, 0.0000e+00, 0.0000e+00])\n",
      "tensor([1.1388e-05, 2.4442e-04, 0.0000e+00, 0.0000e+00])\n",
      "tensor([1.8453e-05, 3.2109e-06, 0.0000e+00, 0.0000e+00])\n",
      "tensor([3.2113e-06, 1.9732e-06, 0.0000e+00, 0.0000e+00])\n",
      "tensor([5.7737e-07, 9.2915e-07, 0.0000e+00, 0.0000e+00])\n",
      "tensor([3.9842e-07, 1.2795e-08, 0.0000e+00, 0.0000e+00])\n",
      "tensor([2.4549e-07, 6.0631e-10, 0.0000e+00, 0.0000e+00])\n",
      "tensor([1.5092e-07, 2.7836e-10, 0.0000e+00, 0.0000e+00])\n",
      "tensor([2.1187e-08, 5.7460e-09, 0.0000e+00, 0.0000e+00])\n",
      "tensor([1.3292e-08, 9.8530e-11, 0.0000e+00, 0.0000e+00])\n",
      "tensor([8.1747e-09, 1.5931e-11, 0.0000e+00, 0.0000e+00])\n",
      "tensor([5.0254e-09, 9.2135e-12, 0.0000e+00, 0.0000e+00])\n",
      "tensor([8.6322e-10, 1.7902e-10, 0.0000e+00, 0.0000e+00])\n",
      "tensor([5.3897e-10, 3.2935e-12, 0.0000e+00, 0.0000e+00])\n",
      "tensor([7.5688e-11, 2.1538e-11, 0.0000e+00, 0.0000e+00])\n",
      "tensor([4.7532e-11, 3.6521e-13, 0.0000e+00, 0.0000e+00])\n",
      "tensor([2.9233e-11, 5.7139e-14, 0.0000e+00, 0.0000e+00])\n",
      "tensor([1.7971e-11, 3.2950e-14, 0.0000e+00, 0.0000e+00])\n",
      "tensor([2.5228e-12, 6.8411e-13, 0.0000e+00, 0.0000e+00])\n",
      "tensor([4.4225e-13, 3.7128e-13, 0.0000e+00, 0.0000e+00])\n",
      "tensor([8.0817e-14, 1.6919e-13, 0.0000e+00, 0.0000e+00])\n",
      "tensor([1.3154e-14, 7.7889e-14, 0.0000e+00, 0.0000e+00])\n",
      "tensor([3.2790e-15, 3.2717e-14, 0.0000e+00, 0.0000e+00])\n",
      "tensor([8.1034e-16, 1.4602e-14, 0.0000e+00, 0.0000e+00])\n",
      "tensor([2.6999e-16, 6.4925e-15, 0.0000e+00, 0.0000e+00])\n",
      "tensor([0.0000e+00, 0.0000e+00, 3.8653e-16, 0.0000e+00])\n"
     ]
    },
    {
     "name": "stderr",
     "output_type": "stream",
     "text": [
      "100%|██████████| 1/1 [00:00<00:00, 93.08it/s]\n",
      "INFO:eval:Cross-entropy: 1.0414 nats (= perplexity 2.833)\n"
     ]
    },
    {
     "name": "stdout",
     "output_type": "stream",
     "text": [
      "tensor([1.9265e-07, 5.2144e-01, 0.0000e+00, 0.0000e+00])\n",
      "tensor([0.0074, 0.2130, 0.0000, 0.0000])\n",
      "tensor([0.0044, 0.0873, 0.0000, 0.0000])\n",
      "tensor([0.0015, 0.0397, 0.0000, 0.0000])\n",
      "tensor([0.0008, 0.0162, 0.0000, 0.0000])\n",
      "tensor([0.0003, 0.0074, 0.0000, 0.0000])\n",
      "tensor([0.0002, 0.0030, 0.0000, 0.0000])\n",
      "tensor([5.4028e-05, 1.3748e-03, 0.0000e+00, 0.0000e+00])\n",
      "tensor([2.2091e-05, 6.2403e-04, 0.0000e+00, 0.0000e+00])\n",
      "tensor([1.2897e-05, 2.5568e-04, 0.0000e+00, 0.0000e+00])\n",
      "tensor([1.9652e-05, 1.7169e-06, 0.0000e+00, 0.0000e+00])\n",
      "tensor([3.6610e-06, 1.3438e-06, 0.0000e+00, 0.0000e+00])\n",
      "tensor([6.9645e-07, 6.6869e-07, 0.0000e+00, 0.0000e+00])\n",
      "tensor([4.5335e-07, 4.8449e-09, 0.0000e+00, 0.0000e+00])\n",
      "tensor([2.7518e-07, 2.7497e-10, 0.0000e+00, 0.0000e+00])\n",
      "tensor([1.6691e-07, 1.4908e-10, 0.0000e+00, 0.0000e+00])\n",
      "tensor([2.3205e-08, 6.1093e-09, 0.0000e+00, 0.0000e+00])\n",
      "tensor([1.4357e-08, 5.3276e-11, 0.0000e+00, 0.0000e+00])\n",
      "tensor([8.7100e-09, 8.0380e-12, 0.0000e+00, 0.0000e+00])\n",
      "tensor([5.2831e-09, 4.7141e-12, 0.0000e+00, 0.0000e+00])\n",
      "tensor([9.7773e-10, 1.7461e-10, 0.0000e+00, 0.0000e+00])\n",
      "tensor([6.0108e-10, 1.6909e-12, 0.0000e+00, 0.0000e+00])\n",
      "tensor([8.3578e-11, 2.2523e-11, 0.0000e+00, 0.0000e+00])\n",
      "tensor([5.1733e-11, 1.9535e-13, 0.0000e+00, 0.0000e+00])\n",
      "tensor([3.1385e-11, 2.8986e-14, 0.0000e+00, 0.0000e+00])\n",
      "tensor([1.9037e-11, 1.6987e-14, 0.0000e+00, 0.0000e+00])\n",
      "tensor([2.6466e-12, 6.9678e-13, 0.0000e+00, 0.0000e+00])\n",
      "tensor([4.9961e-13, 3.7118e-13, 0.0000e+00, 0.0000e+00])\n",
      "tensor([9.7696e-14, 1.6798e-13, 0.0000e+00, 0.0000e+00])\n",
      "tensor([1.5363e-14, 7.9543e-14, 0.0000e+00, 0.0000e+00])\n",
      "tensor([3.9658e-15, 3.3001e-14, 0.0000e+00, 0.0000e+00])\n",
      "tensor([9.0128e-16, 1.5075e-14, 0.0000e+00, 0.0000e+00])\n",
      "tensor([2.8516e-16, 6.8536e-15, 0.0000e+00, 0.0000e+00])\n",
      "tensor([0.0000e+00, 0.0000e+00, 4.2007e-16, 0.0000e+00])\n"
     ]
    },
    {
     "name": "stderr",
     "output_type": "stream",
     "text": [
      "  0%|          | 0/1 [00:00<?, ?it/s]"
     ]
    },
    {
     "name": "stdout",
     "output_type": "stream",
     "text": [
      "tensor([1.9265e-07, 5.2144e-01, 0.0000e+00, 0.0000e+00])\n",
      "tensor([0.0074, 0.2130, 0.0000, 0.0000])\n",
      "tensor([0.0044, 0.0873, 0.0000, 0.0000])\n",
      "tensor([0.0015, 0.0397, 0.0000, 0.0000])\n",
      "tensor([0.0008, 0.0162, 0.0000, 0.0000])\n",
      "tensor([0.0003, 0.0074, 0.0000, 0.0000])\n",
      "tensor([0.0002, 0.0030, 0.0000, 0.0000])\n",
      "tensor([5.4028e-05, 1.3748e-03, 0.0000e+00, 0.0000e+00])\n",
      "tensor([2.2091e-05, 6.2403e-04, 0.0000e+00, 0.0000e+00])\n",
      "tensor([1.2897e-05, 2.5568e-04, 0.0000e+00, 0.0000e+00])\n",
      "tensor([1.9652e-05, 1.7169e-06, 0.0000e+00, 0.0000e+00])\n",
      "tensor([3.6610e-06, 1.3438e-06, 0.0000e+00, 0.0000e+00])\n",
      "tensor([6.9645e-07, 6.6869e-07, 0.0000e+00, 0.0000e+00])\n",
      "tensor([4.5335e-07, 4.8449e-09, 0.0000e+00, 0.0000e+00])\n",
      "tensor([2.7518e-07, 2.7497e-10, 0.0000e+00, 0.0000e+00])\n",
      "tensor([1.6691e-07, 1.4908e-10, 0.0000e+00, 0.0000e+00])\n",
      "tensor([2.3205e-08, 6.1093e-09, 0.0000e+00, 0.0000e+00])\n",
      "tensor([1.4357e-08, 5.3276e-11, 0.0000e+00, 0.0000e+00])\n",
      "tensor([8.7100e-09, 8.0380e-12, 0.0000e+00, 0.0000e+00])\n",
      "tensor([5.2831e-09, 4.7141e-12, 0.0000e+00, 0.0000e+00])\n",
      "tensor([9.7773e-10, 1.7461e-10, 0.0000e+00, 0.0000e+00])\n",
      "tensor([6.0108e-10, 1.6909e-12, 0.0000e+00, 0.0000e+00])\n",
      "tensor([8.3578e-11, 2.2523e-11, 0.0000e+00, 0.0000e+00])\n",
      "tensor([5.1733e-11, 1.9535e-13, 0.0000e+00, 0.0000e+00])\n",
      "tensor([3.1385e-11, 2.8986e-14, 0.0000e+00, 0.0000e+00])\n",
      "tensor([1.9037e-11, 1.6987e-14, 0.0000e+00, 0.0000e+00])\n",
      "tensor([2.6466e-12, 6.9678e-13, 0.0000e+00, 0.0000e+00])\n",
      "tensor([4.9961e-13, 3.7118e-13, 0.0000e+00, 0.0000e+00])\n",
      "tensor([9.7696e-14, 1.6798e-13, 0.0000e+00, 0.0000e+00])\n",
      "tensor([1.5363e-14, 7.9543e-14, 0.0000e+00, 0.0000e+00])\n",
      "tensor([3.9658e-15, 3.3001e-14, 0.0000e+00, 0.0000e+00])\n",
      "tensor([9.0128e-16, 1.5075e-14, 0.0000e+00, 0.0000e+00])\n",
      "tensor([2.8516e-16, 6.8536e-15, 0.0000e+00, 0.0000e+00])\n",
      "tensor([0.0000e+00, 0.0000e+00, 4.2007e-16, 0.0000e+00])\n"
     ]
    },
    {
     "name": "stderr",
     "output_type": "stream",
     "text": [
      "100%|██████████| 1/1 [00:00<00:00, 59.32it/s]\n",
      "100%|██████████| 1/1 [00:00<00:00, 93.70it/s]\n",
      "INFO:eval:Cross-entropy: 1.0402 nats (= perplexity 2.830)\n"
     ]
    },
    {
     "name": "stdout",
     "output_type": "stream",
     "text": [
      "tensor([7.7533e-09, 5.2825e-01, 0.0000e+00, 0.0000e+00])\n",
      "tensor([0.0078, 0.2142, 0.0000, 0.0000])\n",
      "tensor([0.0046, 0.0871, 0.0000, 0.0000])\n",
      "tensor([0.0016, 0.0400, 0.0000, 0.0000])\n",
      "tensor([0.0009, 0.0163, 0.0000, 0.0000])\n",
      "tensor([0.0003, 0.0075, 0.0000, 0.0000])\n",
      "tensor([0.0002, 0.0030, 0.0000, 0.0000])\n",
      "tensor([5.5351e-05, 1.3990e-03, 0.0000e+00, 0.0000e+00])\n",
      "tensor([2.2505e-05, 6.4221e-04, 0.0000e+00, 0.0000e+00])\n",
      "tensor([1.3741e-05, 2.6113e-04, 0.0000e+00, 0.0000e+00])\n",
      "tensor([2.0310e-05, 8.3772e-07, 0.0000e+00, 0.0000e+00])\n",
      "tensor([3.9062e-06, 9.8279e-07, 0.0000e+00, 0.0000e+00])\n",
      "tensor([7.6336e-07, 5.2221e-07, 0.0000e+00, 0.0000e+00])\n",
      "tensor([4.8368e-07, 1.8589e-09, 0.0000e+00, 0.0000e+00])\n",
      "tensor([2.9130e-07, 1.2661e-10, 0.0000e+00, 0.0000e+00])\n",
      "tensor([1.7539e-07, 7.3079e-11, 0.0000e+00, 0.0000e+00])\n",
      "tensor([2.4299e-08, 6.3014e-09, 0.0000e+00, 0.0000e+00])\n",
      "tensor([1.4921e-08, 2.6195e-11, 0.0000e+00, 0.0000e+00])\n",
      "tensor([8.9847e-09, 3.8061e-12, 0.0000e+00, 0.0000e+00])\n",
      "tensor([5.4097e-09, 2.2537e-12, 0.0000e+00, 0.0000e+00])\n",
      "tensor([1.0372e-09, 1.7221e-10, 0.0000e+00, 0.0000e+00])\n",
      "tensor([6.3244e-10, 8.0897e-13, 0.0000e+00, 0.0000e+00])\n",
      "tensor([8.7624e-11, 2.2971e-11, 0.0000e+00, 0.0000e+00])\n",
      "tensor([5.3816e-11, 9.5253e-14, 0.0000e+00, 0.0000e+00])\n",
      "tensor([3.2406e-11, 1.3730e-14, 0.0000e+00, 0.0000e+00])\n",
      "tensor([1.9512e-11, 8.1286e-15, 0.0000e+00, 0.0000e+00])\n",
      "tensor([2.7032e-12, 7.0101e-13, 0.0000e+00, 0.0000e+00])\n",
      "tensor([5.2857e-13, 3.6986e-13, 0.0000e+00, 0.0000e+00])\n",
      "tensor([1.0677e-13, 1.6672e-13, 0.0000e+00, 0.0000e+00])\n",
      "tensor([1.6560e-14, 8.0113e-14, 0.0000e+00, 0.0000e+00])\n",
      "tensor([4.3508e-15, 3.3011e-14, 0.0000e+00, 0.0000e+00])\n",
      "tensor([9.5284e-16, 1.5263e-14, 0.0000e+00, 0.0000e+00])\n",
      "tensor([2.9387e-16, 7.0191e-15, 0.0000e+00, 0.0000e+00])\n",
      "tensor([0.0000e+00, 0.0000e+00, 4.3711e-16, 0.0000e+00])\n"
     ]
    },
    {
     "name": "stderr",
     "output_type": "stream",
     "text": [
      "  0%|          | 0/1 [00:00<?, ?it/s]"
     ]
    },
    {
     "name": "stdout",
     "output_type": "stream",
     "text": [
      "tensor([7.7533e-09, 5.2825e-01, 0.0000e+00, 0.0000e+00])\n",
      "tensor([0.0078, 0.2142, 0.0000, 0.0000])\n",
      "tensor([0.0046, 0.0871, 0.0000, 0.0000])\n",
      "tensor([0.0016, 0.0400, 0.0000, 0.0000])\n",
      "tensor([0.0009, 0.0163, 0.0000, 0.0000])\n",
      "tensor([0.0003, 0.0075, 0.0000, 0.0000])\n",
      "tensor([0.0002, 0.0030, 0.0000, 0.0000])\n",
      "tensor([5.5351e-05, 1.3990e-03, 0.0000e+00, 0.0000e+00])\n",
      "tensor([2.2505e-05, 6.4221e-04, 0.0000e+00, 0.0000e+00])\n",
      "tensor([1.3741e-05, 2.6113e-04, 0.0000e+00, 0.0000e+00])\n",
      "tensor([2.0310e-05, 8.3772e-07, 0.0000e+00, 0.0000e+00])\n",
      "tensor([3.9062e-06, 9.8279e-07, 0.0000e+00, 0.0000e+00])\n",
      "tensor([7.6336e-07, 5.2221e-07, 0.0000e+00, 0.0000e+00])\n",
      "tensor([4.8368e-07, 1.8589e-09, 0.0000e+00, 0.0000e+00])\n",
      "tensor([2.9130e-07, 1.2661e-10, 0.0000e+00, 0.0000e+00])\n",
      "tensor([1.7539e-07, 7.3079e-11, 0.0000e+00, 0.0000e+00])\n",
      "tensor([2.4299e-08, 6.3014e-09, 0.0000e+00, 0.0000e+00])\n",
      "tensor([1.4921e-08, 2.6195e-11, 0.0000e+00, 0.0000e+00])\n",
      "tensor([8.9847e-09, 3.8061e-12, 0.0000e+00, 0.0000e+00])\n",
      "tensor([5.4097e-09, 2.2537e-12, 0.0000e+00, 0.0000e+00])\n",
      "tensor([1.0372e-09, 1.7221e-10, 0.0000e+00, 0.0000e+00])\n",
      "tensor([6.3244e-10, 8.0897e-13, 0.0000e+00, 0.0000e+00])\n",
      "tensor([8.7624e-11, 2.2971e-11, 0.0000e+00, 0.0000e+00])\n",
      "tensor([5.3816e-11, 9.5253e-14, 0.0000e+00, 0.0000e+00])\n",
      "tensor([3.2406e-11, 1.3730e-14, 0.0000e+00, 0.0000e+00])\n",
      "tensor([1.9512e-11, 8.1286e-15, 0.0000e+00, 0.0000e+00])\n",
      "tensor([2.7032e-12, 7.0101e-13, 0.0000e+00, 0.0000e+00])\n",
      "tensor([5.2857e-13, 3.6986e-13, 0.0000e+00, 0.0000e+00])\n",
      "tensor([1.0677e-13, 1.6672e-13, 0.0000e+00, 0.0000e+00])\n",
      "tensor([1.6560e-14, 8.0113e-14, 0.0000e+00, 0.0000e+00])\n",
      "tensor([4.3508e-15, 3.3011e-14, 0.0000e+00, 0.0000e+00])\n",
      "tensor([9.5284e-16, 1.5263e-14, 0.0000e+00, 0.0000e+00])\n",
      "tensor([2.9387e-16, 7.0191e-15, 0.0000e+00, 0.0000e+00])\n",
      "tensor([0.0000e+00, 0.0000e+00, 4.3711e-16, 0.0000e+00])\n"
     ]
    },
    {
     "name": "stderr",
     "output_type": "stream",
     "text": [
      "100%|██████████| 1/1 [00:00<00:00, 67.78it/s]\n",
      "100%|██████████| 1/1 [00:00<00:00, 94.56it/s]\n",
      "INFO:eval:Cross-entropy: 1.0396 nats (= perplexity 2.828)\n"
     ]
    },
    {
     "name": "stdout",
     "output_type": "stream",
     "text": [
      "tensor([3.0853e-10, 5.3157e-01, 0.0000e+00, 0.0000e+00])\n",
      "tensor([0.0079, 0.2148, 0.0000, 0.0000])\n",
      "tensor([0.0048, 0.0870, 0.0000, 0.0000])\n",
      "tensor([0.0016, 0.0402, 0.0000, 0.0000])\n",
      "tensor([0.0009, 0.0163, 0.0000, 0.0000])\n",
      "tensor([0.0003, 0.0075, 0.0000, 0.0000])\n",
      "tensor([0.0002, 0.0031, 0.0000, 0.0000])\n",
      "tensor([5.6041e-05, 1.4100e-03, 0.0000e+00, 0.0000e+00])\n",
      "tensor([2.2728e-05, 6.5078e-04, 0.0000e+00, 0.0000e+00])\n",
      "tensor([1.4161e-05, 2.6363e-04, 0.0000e+00, 0.0000e+00])\n",
      "tensor([2.0634e-05, 3.9065e-07, 0.0000e+00, 0.0000e+00])\n",
      "tensor([4.0265e-06, 8.0169e-07, 0.0000e+00, 0.0000e+00])\n",
      "tensor([7.9657e-07, 4.4953e-07, 0.0000e+00, 0.0000e+00])\n",
      "tensor([4.9858e-07, 7.5416e-10, 0.0000e+00, 0.0000e+00])\n",
      "tensor([2.9914e-07, 5.7940e-11, 0.0000e+00, 0.0000e+00])\n",
      "tensor([1.7947e-07, 3.4181e-11, 0.0000e+00, 0.0000e+00])\n",
      "tensor([2.4832e-08, 6.3938e-09, 0.0000e+00, 0.0000e+00])\n",
      "tensor([1.5192e-08, 1.2266e-11, 0.0000e+00, 0.0000e+00])\n",
      "tensor([9.1146e-09, 1.7497e-12, 0.0000e+00, 0.0000e+00])\n",
      "tensor([5.4681e-09, 1.0415e-12, 0.0000e+00, 0.0000e+00])\n",
      "tensor([1.0655e-09, 1.7105e-10, 0.0000e+00, 0.0000e+00])\n",
      "tensor([6.4709e-10, 3.7386e-13, 0.0000e+00, 0.0000e+00])\n",
      "tensor([8.9540e-11, 2.3169e-11, 0.0000e+00, 0.0000e+00])\n",
      "tensor([5.4784e-11, 4.4397e-14, 0.0000e+00, 0.0000e+00])\n",
      "tensor([3.2868e-11, 6.3097e-15, 0.0000e+00, 0.0000e+00])\n",
      "tensor([1.9719e-11, 3.7556e-15, 0.0000e+00, 0.0000e+00])\n",
      "tensor([2.7285e-12, 7.0252e-13, 0.0000e+00, 0.0000e+00])\n",
      "tensor([5.4216e-13, 3.6896e-13, 0.0000e+00, 0.0000e+00])\n",
      "tensor([1.1116e-13, 1.6598e-13, 0.0000e+00, 0.0000e+00])\n",
      "tensor([1.7143e-14, 8.0323e-14, 0.0000e+00, 0.0000e+00])\n",
      "tensor([4.5417e-15, 3.2985e-14, 0.0000e+00, 0.0000e+00])\n",
      "tensor([9.7872e-16, 1.5339e-14, 0.0000e+00, 0.0000e+00])\n",
      "tensor([2.9832e-16, 7.0929e-15, 0.0000e+00, 0.0000e+00])\n",
      "tensor([0.0000e+00, 0.0000e+00, 4.4519e-16, 0.0000e+00])\n"
     ]
    },
    {
     "name": "stderr",
     "output_type": "stream",
     "text": [
      "  0%|          | 0/1 [00:00<?, ?it/s]"
     ]
    },
    {
     "name": "stdout",
     "output_type": "stream",
     "text": [
      "tensor([3.0853e-10, 5.3157e-01, 0.0000e+00, 0.0000e+00])\n",
      "tensor([0.0079, 0.2148, 0.0000, 0.0000])\n",
      "tensor([0.0048, 0.0870, 0.0000, 0.0000])\n",
      "tensor([0.0016, 0.0402, 0.0000, 0.0000])\n",
      "tensor([0.0009, 0.0163, 0.0000, 0.0000])\n",
      "tensor([0.0003, 0.0075, 0.0000, 0.0000])\n",
      "tensor([0.0002, 0.0031, 0.0000, 0.0000])\n",
      "tensor([5.6041e-05, 1.4100e-03, 0.0000e+00, 0.0000e+00])\n",
      "tensor([2.2728e-05, 6.5078e-04, 0.0000e+00, 0.0000e+00])\n",
      "tensor([1.4161e-05, 2.6363e-04, 0.0000e+00, 0.0000e+00])\n",
      "tensor([2.0634e-05, 3.9065e-07, 0.0000e+00, 0.0000e+00])\n",
      "tensor([4.0265e-06, 8.0169e-07, 0.0000e+00, 0.0000e+00])\n",
      "tensor([7.9657e-07, 4.4953e-07, 0.0000e+00, 0.0000e+00])\n",
      "tensor([4.9858e-07, 7.5416e-10, 0.0000e+00, 0.0000e+00])\n",
      "tensor([2.9914e-07, 5.7940e-11, 0.0000e+00, 0.0000e+00])\n",
      "tensor([1.7947e-07, 3.4181e-11, 0.0000e+00, 0.0000e+00])\n",
      "tensor([2.4832e-08, 6.3938e-09, 0.0000e+00, 0.0000e+00])\n",
      "tensor([1.5192e-08, 1.2266e-11, 0.0000e+00, 0.0000e+00])\n",
      "tensor([9.1146e-09, 1.7497e-12, 0.0000e+00, 0.0000e+00])\n"
     ]
    },
    {
     "name": "stderr",
     "output_type": "stream",
     "text": [
      "100%|██████████| 1/1 [00:00<00:00, 61.34it/s]\n"
     ]
    },
    {
     "name": "stdout",
     "output_type": "stream",
     "text": [
      "tensor([5.4681e-09, 1.0415e-12, 0.0000e+00, 0.0000e+00])\n",
      "tensor([1.0655e-09, 1.7105e-10, 0.0000e+00, 0.0000e+00])\n",
      "tensor([6.4709e-10, 3.7386e-13, 0.0000e+00, 0.0000e+00])\n",
      "tensor([8.9540e-11, 2.3169e-11, 0.0000e+00, 0.0000e+00])\n",
      "tensor([5.4784e-11, 4.4397e-14, 0.0000e+00, 0.0000e+00])\n",
      "tensor([3.2868e-11, 6.3097e-15, 0.0000e+00, 0.0000e+00])\n",
      "tensor([1.9719e-11, 3.7556e-15, 0.0000e+00, 0.0000e+00])\n",
      "tensor([2.7285e-12, 7.0252e-13, 0.0000e+00, 0.0000e+00])\n",
      "tensor([5.4216e-13, 3.6896e-13, 0.0000e+00, 0.0000e+00])\n",
      "tensor([1.1116e-13, 1.6598e-13, 0.0000e+00, 0.0000e+00])\n",
      "tensor([1.7143e-14, 8.0323e-14, 0.0000e+00, 0.0000e+00])\n",
      "tensor([4.5417e-15, 3.2985e-14, 0.0000e+00, 0.0000e+00])\n",
      "tensor([9.7872e-16, 1.5339e-14, 0.0000e+00, 0.0000e+00])\n",
      "tensor([2.9832e-16, 7.0929e-15, 0.0000e+00, 0.0000e+00])\n",
      "tensor([0.0000e+00, 0.0000e+00, 4.4519e-16, 0.0000e+00])\n"
     ]
    },
    {
     "name": "stderr",
     "output_type": "stream",
     "text": [
      "100%|██████████| 1/1 [00:00<00:00, 96.04it/s]\n",
      "INFO:eval:Cross-entropy: 1.0394 nats (= perplexity 2.828)\n"
     ]
    },
    {
     "name": "stdout",
     "output_type": "stream",
     "text": [
      "tensor([1.2221e-11, 5.3311e-01, 0.0000e+00, 0.0000e+00])\n",
      "tensor([0.0080, 0.2150, 0.0000, 0.0000])\n",
      "tensor([0.0048, 0.0870, 0.0000, 0.0000])\n",
      "tensor([0.0016, 0.0403, 0.0000, 0.0000])\n",
      "tensor([0.0009, 0.0163, 0.0000, 0.0000])\n",
      "tensor([0.0003, 0.0075, 0.0000, 0.0000])\n",
      "tensor([0.0002, 0.0031, 0.0000, 0.0000])\n",
      "tensor([5.6377e-05, 1.4150e-03, 0.0000e+00, 0.0000e+00])\n",
      "tensor([2.2839e-05, 6.5469e-04, 0.0000e+00, 0.0000e+00])\n",
      "tensor([1.4359e-05, 2.6475e-04, 0.0000e+00, 0.0000e+00])\n",
      "tensor([2.0787e-05, 1.7840e-07, 0.0000e+00, 0.0000e+00])\n",
      "tensor([4.0827e-06, 7.1632e-07, 0.0000e+00, 0.0000e+00])\n",
      "tensor([8.1216e-07, 4.1545e-07, 0.0000e+00, 0.0000e+00])\n",
      "tensor([5.0554e-07, 3.2068e-10, 0.0000e+00, 0.0000e+00])\n",
      "tensor([3.0279e-07, 2.6290e-11, 0.0000e+00, 0.0000e+00])\n",
      "tensor([1.8134e-07, 1.5635e-11, 0.0000e+00, 0.0000e+00])\n",
      "tensor([2.5081e-08, 6.4366e-09, 0.0000e+00, 0.0000e+00])\n",
      "tensor([1.5318e-08, 5.6129e-12, 0.0000e+00, 0.0000e+00])\n",
      "tensor([9.1742e-09, 7.9381e-13, 0.0000e+00, 0.0000e+00])\n",
      "tensor([5.4945e-09, 4.7371e-13, 0.0000e+00, 0.0000e+00])\n",
      "tensor([1.0785e-09, 1.7051e-10, 0.0000e+00, 0.0000e+00])\n",
      "tensor([6.5375e-10, 1.7005e-13, 0.0000e+00, 0.0000e+00])\n",
      "tensor([9.0420e-11, 2.3257e-11, 0.0000e+00, 0.0000e+00])\n",
      "tensor([5.5224e-11, 2.0270e-14, 0.0000e+00, 0.0000e+00])\n",
      "tensor([3.3075e-11, 2.8619e-15, 0.0000e+00, 0.0000e+00])\n",
      "tensor([1.9809e-11, 1.7079e-15, 0.0000e+00, 0.0000e+00])\n",
      "tensor([2.7398e-12, 7.0311e-13, 0.0000e+00, 0.0000e+00])\n",
      "tensor([5.4836e-13, 3.6850e-13, 0.0000e+00, 0.0000e+00])\n",
      "tensor([1.1319e-13, 1.6561e-13, 0.0000e+00, 0.0000e+00])\n",
      "tensor([1.7415e-14, 8.0407e-14, 0.0000e+00, 0.0000e+00])\n",
      "tensor([4.6313e-15, 3.2968e-14, 0.0000e+00, 0.0000e+00])\n",
      "tensor([9.9100e-16, 1.5372e-14, 0.0000e+00, 0.0000e+00])\n",
      "tensor([3.0047e-16, 7.1258e-15, 0.0000e+00, 0.0000e+00])\n",
      "tensor([0.0000e+00, 0.0000e+00, 4.4890e-16, 0.0000e+00])\n"
     ]
    },
    {
     "name": "stderr",
     "output_type": "stream",
     "text": [
      "  0%|          | 0/1 [00:00<?, ?it/s]"
     ]
    },
    {
     "name": "stdout",
     "output_type": "stream",
     "text": [
      "tensor([1.2221e-11, 5.3311e-01, 0.0000e+00, 0.0000e+00])\n",
      "tensor([0.0080, 0.2150, 0.0000, 0.0000])\n",
      "tensor([0.0048, 0.0870, 0.0000, 0.0000])\n",
      "tensor([0.0016, 0.0403, 0.0000, 0.0000])\n",
      "tensor([0.0009, 0.0163, 0.0000, 0.0000])\n",
      "tensor([0.0003, 0.0075, 0.0000, 0.0000])\n",
      "tensor([0.0002, 0.0031, 0.0000, 0.0000])\n",
      "tensor([5.6377e-05, 1.4150e-03, 0.0000e+00, 0.0000e+00])\n",
      "tensor([2.2839e-05, 6.5469e-04, 0.0000e+00, 0.0000e+00])\n",
      "tensor([1.4359e-05, 2.6475e-04, 0.0000e+00, 0.0000e+00])\n",
      "tensor([2.0787e-05, 1.7840e-07, 0.0000e+00, 0.0000e+00])\n",
      "tensor([4.0827e-06, 7.1632e-07, 0.0000e+00, 0.0000e+00])\n",
      "tensor([8.1216e-07, 4.1545e-07, 0.0000e+00, 0.0000e+00])\n",
      "tensor([5.0554e-07, 3.2068e-10, 0.0000e+00, 0.0000e+00])\n",
      "tensor([3.0279e-07, 2.6290e-11, 0.0000e+00, 0.0000e+00])\n",
      "tensor([1.8134e-07, 1.5635e-11, 0.0000e+00, 0.0000e+00])\n",
      "tensor([2.5081e-08, 6.4366e-09, 0.0000e+00, 0.0000e+00])\n",
      "tensor([1.5318e-08, 5.6129e-12, 0.0000e+00, 0.0000e+00])\n"
     ]
    },
    {
     "name": "stderr",
     "output_type": "stream",
     "text": [
      "100%|██████████| 1/1 [00:00<00:00, 64.05it/s]\n"
     ]
    },
    {
     "name": "stdout",
     "output_type": "stream",
     "text": [
      "tensor([9.1742e-09, 7.9381e-13, 0.0000e+00, 0.0000e+00])\n",
      "tensor([5.4945e-09, 4.7371e-13, 0.0000e+00, 0.0000e+00])\n",
      "tensor([1.0785e-09, 1.7051e-10, 0.0000e+00, 0.0000e+00])\n",
      "tensor([6.5375e-10, 1.7005e-13, 0.0000e+00, 0.0000e+00])\n",
      "tensor([9.0420e-11, 2.3257e-11, 0.0000e+00, 0.0000e+00])\n",
      "tensor([5.5224e-11, 2.0270e-14, 0.0000e+00, 0.0000e+00])\n",
      "tensor([3.3075e-11, 2.8619e-15, 0.0000e+00, 0.0000e+00])\n",
      "tensor([1.9809e-11, 1.7079e-15, 0.0000e+00, 0.0000e+00])\n",
      "tensor([2.7398e-12, 7.0311e-13, 0.0000e+00, 0.0000e+00])\n",
      "tensor([5.4836e-13, 3.6850e-13, 0.0000e+00, 0.0000e+00])\n",
      "tensor([1.1319e-13, 1.6561e-13, 0.0000e+00, 0.0000e+00])\n",
      "tensor([1.7415e-14, 8.0407e-14, 0.0000e+00, 0.0000e+00])\n",
      "tensor([4.6313e-15, 3.2968e-14, 0.0000e+00, 0.0000e+00])\n",
      "tensor([9.9100e-16, 1.5372e-14, 0.0000e+00, 0.0000e+00])\n",
      "tensor([3.0047e-16, 7.1258e-15, 0.0000e+00, 0.0000e+00])\n",
      "tensor([0.0000e+00, 0.0000e+00, 4.4890e-16, 0.0000e+00])\n"
     ]
    },
    {
     "name": "stderr",
     "output_type": "stream",
     "text": [
      "100%|██████████| 1/1 [00:00<00:00, 94.98it/s]\n",
      "INFO:eval:Cross-entropy: 1.0393 nats (= perplexity 2.827)\n"
     ]
    },
    {
     "name": "stdout",
     "output_type": "stream",
     "text": [
      "tensor([4.8315e-13, 5.3381e-01, 0.0000e+00, 0.0000e+00])\n",
      "tensor([0.0081, 0.2151, 0.0000, 0.0000])\n",
      "tensor([0.0049, 0.0869, 0.0000, 0.0000])\n",
      "tensor([0.0016, 0.0403, 0.0000, 0.0000])\n",
      "tensor([0.0009, 0.0163, 0.0000, 0.0000])\n",
      "tensor([0.0003, 0.0076, 0.0000, 0.0000])\n",
      "tensor([0.0002, 0.0031, 0.0000, 0.0000])\n",
      "tensor([5.6534e-05, 1.4172e-03, 0.0000e+00, 0.0000e+00])\n",
      "tensor([2.2891e-05, 6.5646e-04, 0.0000e+00, 0.0000e+00])\n",
      "tensor([1.4451e-05, 2.6525e-04, 0.0000e+00, 0.0000e+00])\n",
      "tensor([2.0858e-05, 8.0707e-08, 0.0000e+00, 0.0000e+00])\n",
      "tensor([4.1085e-06, 6.7716e-07, 0.0000e+00, 0.0000e+00])\n",
      "tensor([8.1931e-07, 3.9987e-07, 0.0000e+00, 0.0000e+00])\n",
      "tensor([5.0872e-07, 1.4020e-10, 0.0000e+00, 0.0000e+00])\n",
      "tensor([3.0445e-07, 1.1864e-11, 0.0000e+00, 0.0000e+00])\n",
      "tensor([1.8220e-07, 7.0785e-12, 0.0000e+00, 0.0000e+00])\n",
      "tensor([2.5195e-08, 6.4562e-09, 0.0000e+00, 0.0000e+00])\n",
      "tensor([1.5375e-08, 2.5417e-12, 0.0000e+00, 0.0000e+00])\n",
      "tensor([9.2014e-09, 3.5806e-13, 0.0000e+00, 0.0000e+00])\n",
      "tensor([5.5066e-09, 2.1393e-13, 0.0000e+00, 0.0000e+00])\n",
      "tensor([1.0844e-09, 1.7028e-10, 0.0000e+00, 0.0000e+00])\n",
      "tensor([6.5678e-10, 7.6792e-14, 0.0000e+00, 0.0000e+00])\n",
      "tensor([9.0821e-11, 2.3296e-11, 0.0000e+00, 0.0000e+00])\n",
      "tensor([5.5424e-11, 9.1693e-15, 0.0000e+00, 0.0000e+00])\n",
      "tensor([3.3169e-11, 1.2907e-15, 0.0000e+00, 0.0000e+00])\n",
      "tensor([1.9850e-11, 7.7118e-16, 0.0000e+00, 0.0000e+00])\n",
      "tensor([2.7449e-12, 7.0338e-13, 0.0000e+00, 0.0000e+00])\n",
      "tensor([5.5119e-13, 3.6829e-13, 0.0000e+00, 0.0000e+00])\n",
      "tensor([1.1412e-13, 1.6545e-13, 0.0000e+00, 0.0000e+00])\n",
      "tensor([1.7540e-14, 8.0447e-14, 0.0000e+00, 0.0000e+00])\n",
      "tensor([4.6726e-15, 3.2961e-14, 0.0000e+00, 0.0000e+00])\n",
      "tensor([9.9671e-16, 1.5387e-14, 0.0000e+00, 0.0000e+00])\n",
      "tensor([3.0148e-16, 7.1409e-15, 0.0000e+00, 0.0000e+00])\n",
      "tensor([0.0000e+00, 0.0000e+00, 4.5060e-16, 0.0000e+00])\n"
     ]
    },
    {
     "name": "stderr",
     "output_type": "stream",
     "text": [
      "  0%|          | 0/1 [00:00<?, ?it/s]"
     ]
    },
    {
     "name": "stdout",
     "output_type": "stream",
     "text": [
      "tensor([4.8315e-13, 5.3381e-01, 0.0000e+00, 0.0000e+00])\n",
      "tensor([0.0081, 0.2151, 0.0000, 0.0000])\n",
      "tensor([0.0049, 0.0869, 0.0000, 0.0000])\n",
      "tensor([0.0016, 0.0403, 0.0000, 0.0000])\n",
      "tensor([0.0009, 0.0163, 0.0000, 0.0000])\n",
      "tensor([0.0003, 0.0076, 0.0000, 0.0000])\n",
      "tensor([0.0002, 0.0031, 0.0000, 0.0000])\n",
      "tensor([5.6534e-05, 1.4172e-03, 0.0000e+00, 0.0000e+00])\n",
      "tensor([2.2891e-05, 6.5646e-04, 0.0000e+00, 0.0000e+00])\n",
      "tensor([1.4451e-05, 2.6525e-04, 0.0000e+00, 0.0000e+00])\n",
      "tensor([2.0858e-05, 8.0707e-08, 0.0000e+00, 0.0000e+00])\n",
      "tensor([4.1085e-06, 6.7716e-07, 0.0000e+00, 0.0000e+00])\n",
      "tensor([8.1931e-07, 3.9987e-07, 0.0000e+00, 0.0000e+00])\n"
     ]
    },
    {
     "name": "stderr",
     "output_type": "stream",
     "text": [
      "100%|██████████| 1/1 [00:00<00:00, 59.96it/s]"
     ]
    },
    {
     "name": "stdout",
     "output_type": "stream",
     "text": [
      "tensor([5.0872e-07, 1.4020e-10, 0.0000e+00, 0.0000e+00])\n",
      "tensor([3.0445e-07, 1.1864e-11, 0.0000e+00, 0.0000e+00])\n",
      "tensor([1.8220e-07, 7.0785e-12, 0.0000e+00, 0.0000e+00])\n",
      "tensor([2.5195e-08, 6.4562e-09, 0.0000e+00, 0.0000e+00])\n",
      "tensor([1.5375e-08, 2.5417e-12, 0.0000e+00, 0.0000e+00])\n",
      "tensor([9.2014e-09, 3.5806e-13, 0.0000e+00, 0.0000e+00])\n",
      "tensor([5.5066e-09, 2.1393e-13, 0.0000e+00, 0.0000e+00])\n",
      "tensor([1.0844e-09, 1.7028e-10, 0.0000e+00, 0.0000e+00])\n",
      "tensor([6.5678e-10, 7.6792e-14, 0.0000e+00, 0.0000e+00])\n",
      "tensor([9.0821e-11, 2.3296e-11, 0.0000e+00, 0.0000e+00])\n",
      "tensor([5.5424e-11, 9.1693e-15, 0.0000e+00, 0.0000e+00])\n",
      "tensor([3.3169e-11, 1.2907e-15, 0.0000e+00, 0.0000e+00])\n",
      "tensor([1.9850e-11, 7.7118e-16, 0.0000e+00, 0.0000e+00])\n",
      "tensor([2.7449e-12, 7.0338e-13, 0.0000e+00, 0.0000e+00])\n",
      "tensor([5.5119e-13, 3.6829e-13, 0.0000e+00, 0.0000e+00])\n",
      "tensor([1.1412e-13, 1.6545e-13, 0.0000e+00, 0.0000e+00])\n",
      "tensor([1.7540e-14, 8.0447e-14, 0.0000e+00, 0.0000e+00])\n",
      "tensor([4.6726e-15, 3.2961e-14, 0.0000e+00, 0.0000e+00])\n",
      "tensor([9.9671e-16, 1.5387e-14, 0.0000e+00, 0.0000e+00])\n",
      "tensor([3.0148e-16, 7.1409e-15, 0.0000e+00, 0.0000e+00])\n",
      "tensor([0.0000e+00, 0.0000e+00, 4.5060e-16, 0.0000e+00])\n"
     ]
    },
    {
     "name": "stderr",
     "output_type": "stream",
     "text": [
      "\n",
      "  0%|          | 0/1 [00:00<?, ?it/s]"
     ]
    },
    {
     "name": "stdout",
     "output_type": "stream",
     "text": [
      "tensor([1.9085e-14, 5.3413e-01, 0.0000e+00, 0.0000e+00])\n",
      "tensor([0.0081, 0.2152, 0.0000, 0.0000])\n",
      "tensor([0.0049, 0.0869, 0.0000, 0.0000])\n",
      "tensor([0.0016, 0.0403, 0.0000, 0.0000])\n",
      "tensor([0.0009, 0.0163, 0.0000, 0.0000])\n",
      "tensor([0.0003, 0.0076, 0.0000, 0.0000])\n",
      "tensor([0.0002, 0.0031, 0.0000, 0.0000])\n",
      "tensor([5.6606e-05, 1.4182e-03, 0.0000e+00, 0.0000e+00])\n",
      "tensor([2.2915e-05, 6.5725e-04, 0.0000e+00, 0.0000e+00])\n",
      "tensor([1.4492e-05, 2.6547e-04, 0.0000e+00, 0.0000e+00])\n",
      "tensor([2.0889e-05, 3.6356e-08, 0.0000e+00, 0.0000e+00])\n",
      "tensor([4.1201e-06, 6.5941e-07, 0.0000e+00, 0.0000e+00])\n",
      "tensor([8.2254e-07, 3.9281e-07, 0.0000e+00, 0.0000e+00])\n",
      "tensor([5.1015e-07, 6.2165e-11, 0.0000e+00, 0.0000e+00])\n",
      "tensor([3.0520e-07, 5.3392e-12, 0.0000e+00, 0.0000e+00])\n"
     ]
    },
    {
     "name": "stderr",
     "output_type": "stream",
     "text": [
      "100%|██████████| 1/1 [00:00<00:00, 87.52it/s]\n",
      "INFO:eval:Cross-entropy: 1.0392 nats (= perplexity 2.827)\n",
      "INFO:hmm:Saving model to my_hmm.pkl\n",
      "INFO:hmm:Saved model to my_hmm.pkl\n"
     ]
    },
    {
     "name": "stdout",
     "output_type": "stream",
     "text": [
      "tensor([1.8258e-07, 3.1898e-12, 0.0000e+00, 0.0000e+00])\n",
      "tensor([2.5246e-08, 6.4650e-09, 0.0000e+00, 0.0000e+00])\n",
      "tensor([1.5401e-08, 1.1455e-12, 0.0000e+00, 0.0000e+00])\n",
      "tensor([9.2134e-09, 1.6108e-13, 0.0000e+00, 0.0000e+00])\n",
      "tensor([5.5118e-09, 9.6295e-14, 0.0000e+00, 0.0000e+00])\n",
      "tensor([1.0870e-09, 1.7017e-10, 0.0000e+00, 0.0000e+00])\n",
      "tensor([6.5811e-10, 3.4565e-14, 0.0000e+00, 0.0000e+00])\n",
      "tensor([9.0999e-11, 2.3314e-11, 0.0000e+00, 0.0000e+00])\n",
      "tensor([5.5512e-11, 4.1303e-15, 0.0000e+00, 0.0000e+00])\n",
      "tensor([3.3210e-11, 5.8062e-16, 0.0000e+00, 0.0000e+00])\n",
      "tensor([1.9867e-11, 3.4710e-16, 0.0000e+00, 0.0000e+00])\n",
      "tensor([2.7471e-12, 7.0348e-13, 0.0000e+00, 0.0000e+00])\n",
      "tensor([5.5243e-13, 3.6819e-13, 0.0000e+00, 0.0000e+00])\n",
      "tensor([1.1453e-13, 1.6537e-13, 0.0000e+00, 0.0000e+00])\n",
      "tensor([1.7596e-14, 8.0461e-14, 0.0000e+00, 0.0000e+00])\n",
      "tensor([4.6910e-15, 3.2956e-14, 0.0000e+00, 0.0000e+00])\n",
      "tensor([9.9925e-16, 1.5393e-14, 0.0000e+00, 0.0000e+00])\n",
      "tensor([3.0193e-16, 7.1473e-15, 0.0000e+00, 0.0000e+00])\n",
      "tensor([0.0000e+00, 0.0000e+00, 4.5135e-16, 0.0000e+00])\n"
     ]
    }
   ],
   "source": [
    "log.info(\"*** Reestimating on icraw (perplexity should improve on every iteration)\")\n",
    "negative_log_likelihood = lambda model: model_cross_entropy(model, icraw)  # evaluate on icraw itself\n",
    "hmm.train(corpus=icraw, loss=negative_log_likelihood, tolerance=0.0001)\n",
    "\n",
    "\n"
   ]
  },
  {
   "cell_type": "code",
   "execution_count": 18,
   "metadata": {},
   "outputs": [
    {
     "name": "stderr",
     "output_type": "stream",
     "text": [
      "INFO:test_ic:*** A, B matrices after reestimation on icrawshould match final params on spreadsheet [transposed])\n"
     ]
    },
    {
     "name": "stdout",
     "output_type": "stream",
     "text": [
      "Transition matrix A:\n",
      "\tC\tH\t_EOS_TAG_\t_BOS_TAG_\n",
      "C\t0.934\t0.066\t0.000\t0.000\n",
      "H\t0.072\t0.865\t0.063\t0.000\n",
      "_EOS_TAG_\t0.333\t0.333\t0.333\t0.000\n",
      "_BOS_TAG_\t0.000\t1.000\t0.000\t0.000\n",
      "\n",
      "Emission matrix B:\n",
      "\t1\t2\t3\n",
      "C\t0.641\t0.148\t0.211\n",
      "H\t0.000\t0.534\t0.466\n",
      "_EOS_TAG_\t0.000\t0.000\t0.000\n",
      "_BOS_TAG_\t0.000\t0.000\t0.000\n",
      "\n",
      "\n"
     ]
    }
   ],
   "source": [
    "log.info(\"*** A, B matrices after reestimation on icraw\"\n",
    "         \"should match final params on spreadsheet [transposed])\")\n",
    "hmm.printAB()"
   ]
  },
  {
   "cell_type": "markdown",
   "metadata": {},
   "source": [
    "Now let's try out a randomly initialized CRF on the ice cream data. Notice how\n",
    "the initialized A and B matrices now hold non-negative potentials,\n",
    "rather than probabilities that sum to 1."
   ]
  },
  {
   "cell_type": "code",
   "execution_count": 19,
   "metadata": {},
   "outputs": [
    {
     "name": "stderr",
     "output_type": "stream",
     "text": [
      "INFO:test_ic:*** Conditional Random Field (CRF) test\n",
      "\n"
     ]
    },
    {
     "ename": "NotImplementedError",
     "evalue": "",
     "output_type": "error",
     "traceback": [
      "\u001b[0;31m---------------------------------------------------------------------------\u001b[0m",
      "\u001b[0;31mNotImplementedError\u001b[0m                       Traceback (most recent call last)",
      "Cell \u001b[0;32mIn[19], line 2\u001b[0m\n\u001b[1;32m      1\u001b[0m log\u001b[38;5;241m.\u001b[39minfo(\u001b[38;5;124m\"\u001b[39m\u001b[38;5;124m*** Conditional Random Field (CRF) test\u001b[39m\u001b[38;5;130;01m\\n\u001b[39;00m\u001b[38;5;124m\"\u001b[39m)\n\u001b[0;32m----> 2\u001b[0m crf \u001b[38;5;241m=\u001b[39m \u001b[43mConditionalRandomField\u001b[49m\u001b[43m(\u001b[49m\u001b[43micsup\u001b[49m\u001b[38;5;241;43m.\u001b[39;49m\u001b[43mtagset\u001b[49m\u001b[43m,\u001b[49m\u001b[43m \u001b[49m\u001b[43micsup\u001b[49m\u001b[38;5;241;43m.\u001b[39;49m\u001b[43mvocab\u001b[49m\u001b[43m)\u001b[49m\n\u001b[1;32m      3\u001b[0m log\u001b[38;5;241m.\u001b[39minfo(\u001b[38;5;124m\"\u001b[39m\u001b[38;5;124m*** Current A, B matrices (potentials from small random parameters)\u001b[39m\u001b[38;5;124m\"\u001b[39m)\n\u001b[1;32m      4\u001b[0m crf\u001b[38;5;241m.\u001b[39mprintAB()\n",
      "File \u001b[0;32m~/nlp/hw-tag/code/crf.py:55\u001b[0m, in \u001b[0;36mConditionalRandomField.__init__\u001b[0;34m(self, tagset, vocab, unigram)\u001b[0m\n\u001b[1;32m     46\u001b[0m \u001b[38;5;129m@override\u001b[39m\n\u001b[1;32m     47\u001b[0m \u001b[38;5;28;01mdef\u001b[39;00m \u001b[38;5;21m__init__\u001b[39m(\u001b[38;5;28mself\u001b[39m, \n\u001b[1;32m     48\u001b[0m              tagset: Integerizer[Tag],\n\u001b[1;32m     49\u001b[0m              vocab: Integerizer[Word],\n\u001b[1;32m     50\u001b[0m              unigram: \u001b[38;5;28mbool\u001b[39m \u001b[38;5;241m=\u001b[39m \u001b[38;5;28;01mFalse\u001b[39;00m):\n\u001b[1;32m     51\u001b[0m \u001b[38;5;250m    \u001b[39m\u001b[38;5;124;03m\"\"\"Construct an CRF with initially random parameters, with the\u001b[39;00m\n\u001b[1;32m     52\u001b[0m \u001b[38;5;124;03m    given tagset, vocabulary, and lexical features.  See the super()\u001b[39;00m\n\u001b[1;32m     53\u001b[0m \u001b[38;5;124;03m    method for discussion.\"\"\"\u001b[39;00m\n\u001b[0;32m---> 55\u001b[0m     \u001b[38;5;28;43msuper\u001b[39;49m\u001b[43m(\u001b[49m\u001b[43m)\u001b[49m\u001b[38;5;241;43m.\u001b[39;49m\u001b[38;5;21;43m__init__\u001b[39;49m\u001b[43m(\u001b[49m\u001b[43mtagset\u001b[49m\u001b[43m,\u001b[49m\u001b[43m \u001b[49m\u001b[43mvocab\u001b[49m\u001b[43m,\u001b[49m\u001b[43m \u001b[49m\u001b[43munigram\u001b[49m\u001b[43m)\u001b[49m\n",
      "File \u001b[0;32m~/nlp/hw-tag/code/hmm.py:84\u001b[0m, in \u001b[0;36mHiddenMarkovModel.__init__\u001b[0;34m(self, tagset, vocab, unigram)\u001b[0m\n\u001b[1;32m     81\u001b[0m \u001b[38;5;28;01massert\u001b[39;00m \u001b[38;5;28mself\u001b[39m\u001b[38;5;241m.\u001b[39meos_t \u001b[38;5;129;01mis\u001b[39;00m \u001b[38;5;129;01mnot\u001b[39;00m \u001b[38;5;28;01mNone\u001b[39;00m    \u001b[38;5;66;03m# we need this to exist\u001b[39;00m\n\u001b[1;32m     82\u001b[0m \u001b[38;5;28mself\u001b[39m\u001b[38;5;241m.\u001b[39meye: Tensor \u001b[38;5;241m=\u001b[39m torch\u001b[38;5;241m.\u001b[39meye(\u001b[38;5;28mself\u001b[39m\u001b[38;5;241m.\u001b[39mk)  \u001b[38;5;66;03m# identity matrix, used as a collection of one-hot tag vectors\u001b[39;00m\n\u001b[0;32m---> 84\u001b[0m \u001b[38;5;28;43mself\u001b[39;49m\u001b[38;5;241;43m.\u001b[39;49m\u001b[43minit_params\u001b[49m\u001b[43m(\u001b[49m\u001b[43m)\u001b[49m\n",
      "File \u001b[0;32m~/nlp/hw-tag/code/crf.py:68\u001b[0m, in \u001b[0;36mConditionalRandomField.init_params\u001b[0;34m(self)\u001b[0m\n\u001b[1;32m     59\u001b[0m \u001b[38;5;250m\u001b[39m\u001b[38;5;124;03m\"\"\"Initialize params self.WA and self.WB to small random values, and\u001b[39;00m\n\u001b[1;32m     60\u001b[0m \u001b[38;5;124;03mthen compute the potential matrices A, B from them.\u001b[39;00m\n\u001b[1;32m     61\u001b[0m \u001b[38;5;124;03mAs in the parent method, we respect structural zeroes (\"Don't guess when you know\").\"\"\"\u001b[39;00m\n\u001b[1;32m     63\u001b[0m \u001b[38;5;66;03m# See the \"Training CRFs\" section of the reading handout.\u001b[39;00m\n\u001b[1;32m     64\u001b[0m \u001b[38;5;66;03m# \u001b[39;00m\n\u001b[1;32m     65\u001b[0m \u001b[38;5;66;03m# For a unigram model, self.WA should just have a single row:\u001b[39;00m\n\u001b[1;32m     66\u001b[0m \u001b[38;5;66;03m# that model has fewer parameters.\u001b[39;00m\n\u001b[0;32m---> 68\u001b[0m \u001b[38;5;28;01mraise\u001b[39;00m \u001b[38;5;167;01mNotImplementedError\u001b[39;00m   \u001b[38;5;66;03m# you fill this in!\u001b[39;00m\n\u001b[1;32m     69\u001b[0m \u001b[38;5;28mself\u001b[39m\u001b[38;5;241m.\u001b[39mupdateAB()\n",
      "\u001b[0;31mNotImplementedError\u001b[0m: "
     ]
    }
   ],
   "source": [
    "log.info(\"*** Conditional Random Field (CRF) test\\n\")\n",
    "crf = ConditionalRandomField(icsup.tagset, icsup.vocab)\n",
    "log.info(\"*** Current A, B matrices (potentials from small random parameters)\")\n",
    "crf.printAB()"
   ]
  },
  {
   "cell_type": "markdown",
   "metadata": {},
   "source": [
    "Now let's try your training code, running it on supervised data. To test this,\n",
    "we'll restart from a random initialization. \n",
    "\n",
    "Note that the logger reports the CRF's *conditional* cross-entropy, \n",
    "log p(tags | words) / n.  This is much lower than the HMM's *joint* \n",
    "cross-entropy log p(tags, words) / n, but that doesn't mean the CRF\n",
    "is worse at tagging.  The CRF is just predicting less information."
   ]
  },
  {
   "cell_type": "code",
   "execution_count": null,
   "metadata": {},
   "outputs": [],
   "source": [
    "log.info(\"*** Supervised training on icsup\")\n",
    "cross_entropy_loss = lambda model: model_cross_entropy(model, icsup)\n",
    "crf.train(corpus=icsup, loss=cross_entropy_loss, lr=0.1, tolerance=0.0001)\n",
    "log.info(\"*** A, B matrices after training on icsup\")\n",
    "crf.printAB()"
   ]
  },
  {
   "cell_type": "markdown",
   "metadata": {},
   "source": [
    "Let's again tag the spreadsheet \"sentence\" (that is, the sequence of ice creams) \n",
    "using the Viterbi algorithm (this may not match the HMM)."
   ]
  },
  {
   "cell_type": "code",
   "execution_count": null,
   "metadata": {},
   "outputs": [],
   "source": [
    "log.info(\"*** Viterbi results on icraw with trained parameters\")\n",
    "icraw = TaggedCorpus(Path(\"icraw\"), tagset=icsup.tagset, vocab=icsup.vocab)\n",
    "write_tagging(hmm, icraw, Path(\"icraw_crf.output\"))  # calls hmm.viterbi_tagging on each sentence\n",
    "os.system(\"cat icraw_crf.output\")   # print the file we just created, and remove it"
   ]
  }
 ],
 "metadata": {
  "kernelspec": {
   "display_name": "nlp-class",
   "language": "python",
   "name": "python3"
  },
  "language_info": {
   "codemirror_mode": {
    "name": "ipython",
    "version": 3
   },
   "file_extension": ".py",
   "mimetype": "text/x-python",
   "name": "python",
   "nbconvert_exporter": "python",
   "pygments_lexer": "ipython3",
   "version": "3.9.13"
  }
 },
 "nbformat": 4,
 "nbformat_minor": 2
}
