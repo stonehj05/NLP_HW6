{
 "cells": [
  {
   "cell_type": "code",
   "execution_count": 1,
   "metadata": {},
   "outputs": [],
   "source": [
    "#!/usr/bin/env python3"
   ]
  },
  {
   "cell_type": "markdown",
   "metadata": {},
   "source": [
    "This file illustrates how you might experiment with the HMM interface.\n",
    "You can paste these commands in at the Python prompt, or execute `test_en.py` directly.\n",
    "A notebook interface is nicer than the plain Python prompt, so we provide\n",
    "a notebook version of this file as `test_en.ipynb`, which you can open with\n",
    "`jupyter` or with Visual Studio `code` (run it with the `nlp-class` kernel)."
   ]
  },
  {
   "cell_type": "code",
   "execution_count": 2,
   "metadata": {},
   "outputs": [],
   "source": [
    "import logging\n",
    "import math\n",
    "import os\n",
    "from pathlib import Path"
   ]
  },
  {
   "cell_type": "code",
   "execution_count": 3,
   "metadata": {},
   "outputs": [],
   "source": [
    "import torch"
   ]
  },
  {
   "cell_type": "code",
   "execution_count": 4,
   "metadata": {},
   "outputs": [],
   "source": [
    "from corpus import TaggedCorpus\n",
    "from eval import eval_tagging, model_cross_entropy, viterbi_error_rate\n",
    "from hmm import HiddenMarkovModel\n",
    "from crf import ConditionalRandomField"
   ]
  },
  {
   "cell_type": "markdown",
   "metadata": {},
   "source": [
    "Set up logging."
   ]
  },
  {
   "cell_type": "code",
   "execution_count": 5,
   "metadata": {},
   "outputs": [],
   "source": [
    "logging.root.setLevel(level=logging.INFO)\n",
    "log = logging.getLogger(\"test_en\")       # For usage, see findsim.py in earlier assignment.\n",
    "logging.basicConfig(format=\"%(levelname)s : %(message)s\", level=logging.INFO)  # could change INFO to DEBUG\n",
    "# torch.autograd.set_detect_anomaly(True)    # uncomment to improve error messages from .backward(), but slows down"
   ]
  },
  {
   "cell_type": "markdown",
   "metadata": {},
   "source": [
    "Switch working directory to the directory where the data live.  You may need to edit this line."
   ]
  },
  {
   "cell_type": "code",
   "execution_count": 6,
   "metadata": {},
   "outputs": [],
   "source": [
    "os.chdir(\"../data\")"
   ]
  },
  {
   "cell_type": "code",
   "execution_count": 7,
   "metadata": {},
   "outputs": [
    {
     "name": "stderr",
     "output_type": "stream",
     "text": [
      "INFO : Read 191873 tokens from ensup, enraw\n",
      "INFO : Created 26 tag types\n",
      "INFO : Created 18461 word types\n"
     ]
    },
    {
     "name": "stdout",
     "output_type": "stream",
     "text": [
      "len(entrain)=8064  len(ensup)=4051  len(endev)=996\n"
     ]
    }
   ],
   "source": [
    "entrain = TaggedCorpus(Path(\"ensup\"), Path(\"enraw\"))                               # all training\n",
    "ensup =   TaggedCorpus(Path(\"ensup\"), tagset=entrain.tagset, vocab=entrain.vocab)  # supervised training\n",
    "endev =   TaggedCorpus(Path(\"endev\"), tagset=entrain.tagset, vocab=entrain.vocab)  # evaluation\n",
    "print(f\"{len(entrain)=}  {len(ensup)=}  {len(endev)=}\")"
   ]
  },
  {
   "cell_type": "code",
   "execution_count": 8,
   "metadata": {},
   "outputs": [
    {
     "name": "stderr",
     "output_type": "stream",
     "text": [
      "INFO : Read 95936 tokens from ensup\n",
      "INFO : Created 26 tag types\n",
      "INFO : Created 12466 word types\n",
      "INFO : Tagset: f['W', 'J', 'N', 'C', 'V', 'I', 'D', ',', 'M', 'P', '.', 'E', 'R', '`', \"'\", 'T', '$', ':', '-', '#', 'S', 'F', 'U', 'L', '_EOS_TAG_', '_BOS_TAG_']\n"
     ]
    }
   ],
   "source": [
    "known_vocab = TaggedCorpus(Path(\"ensup\")).vocab    # words seen with supervised tags; used in evaluation\n",
    "log.info(f\"Tagset: f{list(entrain.tagset)}\")"
   ]
  },
  {
   "cell_type": "markdown",
   "metadata": {},
   "source": [
    "Make an HMM.  Let's do some pre-training to approximately maximize the\n",
    "regularized log-likelihood on supervised training data.  In other words, the\n",
    "probabilities at the M step will just be supervised count ratios.\n",
    "\n",
    "On each epoch, you will see two progress bars: first it collects counts from\n",
    "all the sentences (E step), and then after the M step, it evaluates the loss\n",
    "function, which is the (unregularized) cross-entropy on the training set.\n",
    "\n",
    "The parameters don't actually matter during the E step because there are no\n",
    "hidden tags to impute.  The first M step will jump right to the optimal\n",
    "solution.  The code will try a second epoch with the revised parameters, but\n",
    "the result will be identical, so it will detect convergence and stop.\n",
    "\n",
    "We arbitrarily choose λ=1 for our add-λ smoothing at the M step, but it would\n",
    "be better to search for the best value of this hyperparameter."
   ]
  },
  {
   "cell_type": "code",
   "execution_count": 9,
   "metadata": {},
   "outputs": [
    {
     "name": "stderr",
     "output_type": "stream",
     "text": [
      "INFO : *** Hidden Markov Model (HMM)\n",
      "100%|██████████| 4051/4051 [00:08<00:00, 482.64it/s]\n",
      "INFO : Cross-entropy: 12.6445 nats (= perplexity 310045.275)\n",
      "100%|██████████| 4051/4051 [00:23<00:00, 176.04it/s]\n",
      "100%|██████████| 4051/4051 [00:08<00:00, 492.54it/s]\n",
      "INFO : Cross-entropy: 7.4505 nats (= perplexity 1720.756)\n",
      "100%|██████████| 4051/4051 [00:23<00:00, 175.26it/s]\n",
      "100%|██████████| 4051/4051 [00:08<00:00, 489.55it/s]\n",
      "INFO : Cross-entropy: 7.4505 nats (= perplexity 1720.767)\n",
      "INFO : Saving model to ensup_hmm.pkl\n",
      "INFO : Saved model to ensup_hmm.pkl\n"
     ]
    }
   ],
   "source": [
    "log.info(\"*** Hidden Markov Model (HMM)\")\n",
    "hmm = HiddenMarkovModel(entrain.tagset, entrain.vocab)  # randomly initialized parameters  \n",
    "loss_sup = lambda model: model_cross_entropy(model, eval_corpus=ensup)\n",
    "hmm.train(corpus=ensup, loss=loss_sup, λ=1.0,\n",
    "          save_path=\"ensup_hmm.pkl\") "
   ]
  },
  {
   "cell_type": "markdown",
   "metadata": {},
   "source": [
    "Now let's throw in the unsupervised training data as well, and continue\n",
    "training as before, in order to increase the regularized log-likelihood on\n",
    "this larger, semi-supervised training set.  It's now the *incomplete-data*\n",
    "log-likelihood.\n",
    "\n",
    "This time, we'll use a different evaluation loss function: we'll stop when the\n",
    "*tagging error rate* on a held-out dev set stops getting better.  Also, the\n",
    "implementation of this loss function (`viterbi_error_rate`) includes a helpful\n",
    "side effect: it logs the *cross-entropy* on the held-out dataset as well, just\n",
    "for your information.\n",
    "\n",
    "We hope that held-out tagging accuracy will go up for a little bit before it\n",
    "goes down again (see Merialdo 1994). (Log-likelihood on training data will\n",
    "continue to improve, and that improvement may generalize to held-out\n",
    "cross-entropy.  But getting accuracy to increase is harder.)"
   ]
  },
  {
   "cell_type": "code",
   "execution_count": 10,
   "metadata": {},
   "outputs": [
    {
     "name": "stderr",
     "output_type": "stream",
     "text": [
      "INFO : Loaded model from ensup_hmm.pkl\n",
      "100%|██████████| 996/996 [00:02<00:00, 433.31it/s]\n",
      "INFO : Cross-entropy: 7.5995 nats (= perplexity 1997.182)\n",
      "100%|██████████| 996/996 [00:06<00:00, 147.75it/s]\n",
      "INFO : Tagging accuracy: all: 38.787%, known: 40.941%, seen: 15.320%, novel: 16.909%\n",
      "100%|██████████| 8064/8064 [00:46<00:00, 175.15it/s]\n",
      "100%|██████████| 996/996 [00:02<00:00, 429.38it/s]\n",
      "INFO : Cross-entropy: 7.3486 nats (= perplexity 1553.987)\n",
      "100%|██████████| 996/996 [00:06<00:00, 145.29it/s]\n",
      "INFO : Tagging accuracy: all: 39.684%, known: 41.880%, seen: 16.835%, novel: 16.975%\n",
      "100%|██████████| 8064/8064 [00:46<00:00, 174.79it/s]\n",
      "100%|██████████| 996/996 [00:02<00:00, 437.02it/s]\n",
      "INFO : Cross-entropy: 7.3544 nats (= perplexity 1563.116)\n",
      "100%|██████████| 996/996 [00:07<00:00, 140.81it/s]\n",
      "INFO : Tagging accuracy: all: 39.217%, known: 41.381%, seen: 17.172%, novel: 16.645%\n",
      "INFO : Saving model to entrain_hmm.pkl\n",
      "INFO : Saved model to entrain_hmm.pkl\n"
     ]
    }
   ],
   "source": [
    "hmm = HiddenMarkovModel.load(\"ensup_hmm.pkl\")  # reset to supervised model (in case you're re-executing this bit)\n",
    "loss_dev = lambda model: viterbi_error_rate(model, eval_corpus=endev, \n",
    "                                            known_vocab=known_vocab)\n",
    "hmm.train(corpus=entrain, loss=loss_dev, λ=1.0,\n",
    "          save_path=\"entrain_hmm.pkl\")"
   ]
  },
  {
   "cell_type": "markdown",
   "metadata": {},
   "source": [
    "You can also retry the above workflow where you start with a worse supervised\n",
    "model (like Merialdo).  Does EM help more in that case?  It's easiest to rerun\n",
    "exactly the code above, but first make the `ensup` file smaller by copying\n",
    "`ensup-tiny` over it.  `ensup-tiny` is only 25 sentences (that happen to cover\n",
    "all tags in `endev`).  Back up your old `ensup` and your old `*.pkl` models\n",
    "before you do this."
   ]
  },
  {
   "cell_type": "markdown",
   "metadata": {},
   "source": [
    "More detailed look at the first 10 sentences in the held-out corpus,\n",
    "including Viterbi tagging."
   ]
  },
  {
   "cell_type": "code",
   "execution_count": 11,
   "metadata": {},
   "outputs": [],
   "source": [
    "def look_at_your_data(model, dev, N):\n",
    "    for m, sentence in enumerate(dev):\n",
    "        if m >= N: break\n",
    "        viterbi = model.viterbi_tagging(sentence.desupervise(), endev)\n",
    "        counts = eval_tagging(predicted=viterbi, gold=sentence, \n",
    "                              known_vocab=known_vocab)\n",
    "        num = counts['NUM', 'ALL']\n",
    "        denom = counts['DENOM', 'ALL']\n",
    "        \n",
    "        log.info(f\"Gold:    {sentence}\")\n",
    "        log.info(f\"Viterbi: {viterbi}\")\n",
    "        log.info(f\"Loss:    {denom - num}/{denom}\")\n",
    "        xent = -model.logprob(sentence, endev) / len(sentence)  # measured in nats\n",
    "        log.info(f\"Cross-entropy: {xent/math.log(2)} nats (= perplexity {math.exp(xent)})\\n---\")"
   ]
  },
  {
   "cell_type": "code",
   "execution_count": 12,
   "metadata": {},
   "outputs": [
    {
     "name": "stderr",
     "output_type": "stream",
     "text": [
      "INFO : Gold:    ``/` We/P 're/V strongly/R _OOV_/V that/I anyone/N who/W has/V eaten/V in/I the/D cafeteria/N this/D month/N have/V the/D shot/N ,/, ''/' Mr./N Mattausch/N added/V ,/, ``/` and/C that/D means/V virtually/R everyone/N who/W works/V here/R ./.\n",
      "INFO : Viterbi: ``/` We/P 're/V strongly/R _OOV_/V that/I anyone/N who/W has/V eaten/V in/I the/W cafeteria/W this/W month/W have/W the/W shot/W ,/W ''/W Mr./W Mattausch/W added/W ,/W ``/W and/W that/W means/W virtually/W everyone/W who/W works/W here/W ./W\n",
      "INFO : Loss:    22/34\n",
      "INFO : Cross-entropy: 10.623357772827148 nats (= perplexity 1577.4275448473954)\n",
      "---\n",
      "INFO : Gold:    I/P was/V _OOV_/V to/T read/V the/D _OOV_/N of/I facts/N in/I your/P Oct./N 13/C editorial/N ``/` _OOV_/N 's/P _OOV_/N _OOV_/N ./. ''/'\n",
      "INFO : Viterbi: I/P was/V _OOV_/V to/T read/V the/D _OOV_/N of/I facts/N in/I your/D Oct./N 13/W editorial/W ``/W _OOV_/W 's/W _OOV_/W _OOV_/W ./W ''/W\n",
      "INFO : Loss:    10/21\n",
      "INFO : Cross-entropy: 10.89820384979248 nats (= perplexity 1908.4735797490046)\n",
      "---\n",
      "INFO : Gold:    It/P is/V the/D _OOV_/J guerrillas/N who/W are/V aligned/V with/I the/D drug/N traffickers/N ,/, not/R the/D left/J _OOV_/N ./.\n",
      "INFO : Viterbi: It/P is/V the/D _OOV_/N guerrillas/, who/W are/V aligned/R with/I the/D drug/N traffickers/, ,/W not/W the/W left/W _OOV_/W ./W\n",
      "INFO : Loss:    10/18\n",
      "INFO : Cross-entropy: 9.628376960754395 nats (= perplexity 791.4624878374468)\n",
      "---\n",
      "INFO : Gold:    This/D information/N was/V _OOV_/V from/I your/P own/J news/N stories/N on/I the/D region/N ./.\n",
      "INFO : Viterbi: This/D information/N was/V _OOV_/R from/I your/D own/J news/N stories/N on/I the/D region/N ./.\n",
      "INFO : Loss:    2/13\n",
      "INFO : Cross-entropy: 9.341547012329102 nats (= perplexity 648.7627832203561)\n",
      "---\n",
      "INFO : Gold:    _OOV_/J _OOV_/J government/N _OOV_/N of/I the/D ``/` _OOV_/F ''/' was/V due/J to/T the/D drug/N _OOV_/N '/P history/N of/I _OOV_/V out/R _OOV_/N in/I the/D _OOV_/N ./.\n",
      "INFO : Viterbi: _OOV_/D _OOV_/J government/N _OOV_/N of/I the/D ``/N _OOV_/, ''/' was/V due/W to/W the/W drug/W _OOV_/W '/W history/W of/W _OOV_/W out/W _OOV_/W in/W the/W _OOV_/W ./W\n",
      "INFO : Loss:    18/25\n",
      "INFO : Cross-entropy: 10.993021011352539 nats (= perplexity 2038.116740712955)\n",
      "---\n",
      "INFO : Gold:    Mary/N _OOV_/N Palo/N Alto/N ,/, Calif/N ./.\n",
      "INFO : Viterbi: Mary/N _OOV_/I Palo/D Alto/N ,/, Calif/N ./.\n",
      "INFO : Loss:    2/7\n",
      "INFO : Cross-entropy: 10.53993034362793 nats (= perplexity 1488.7962556423015)\n",
      "---\n",
      "INFO : Gold:    I/P suggest/V that/I The/D Wall/N Street/N Journal/N -LRB-/- as/R well/R as/I other/J U.S./N news/N publications/N of/I like/J mind/N -RRB-/- should/M put/V its/P money/N where/W its/P mouth/N is/V :/: _OOV_/V computer/N equipment/N to/T replace/V that/I damaged/V at/I El/N _OOV_/N ,/, buy/V ad/N space/N ,/, publish/V stories/N under/I the/D _OOV_/N of/I El/N _OOV_/N journalists/N ./.\n",
      "INFO : Viterbi: I/P suggest/V that/I The/D Wall/N Street/N Journal/N -LRB-/N as/I well/R as/I other/W U.S./W news/W publications/W of/W like/W mind/W -RRB-/W should/W put/W its/W money/W where/W its/W mouth/W is/W :/W _OOV_/W computer/W equipment/W to/W replace/W that/W damaged/W at/W El/W _OOV_/W ,/W buy/W ad/W space/W ,/W publish/W stories/W under/W the/W _OOV_/W of/W El/W _OOV_/W journalists/W ./W\n",
      "INFO : Loss:    43/53\n",
      "INFO : Cross-entropy: 11.677623748779297 nats (= perplexity 3275.7813971910964)\n",
      "---\n",
      "INFO : Gold:    Perhaps/R an/D arrangement/N could/M be/V worked/V out/R to/T ``/` sponsor/V ''/' El/N _OOV_/N journalists/N and/C staff/N by/I paying/V for/I added/V security/N in/I exchange/N for/I exclusive/J stories/N ./.\n",
      "INFO : Viterbi: Perhaps/I an/D arrangement/N could/M be/V worked/V out/R to/T ``/V sponsor/. ''/' El/W _OOV_/W journalists/W and/W staff/W by/W paying/W for/W added/W security/W in/W exchange/W for/W exclusive/W stories/W ./W\n",
      "INFO : Loss:    19/27\n",
      "INFO : Cross-entropy: 11.475653648376465 nats (= perplexity 2847.8428527313554)\n",
      "---\n",
      "INFO : Gold:    _OOV_/V El/N _OOV_/N 's/P courage/N with/I real/J support/N ./.\n",
      "INFO : Viterbi: _OOV_/D El/N _OOV_/I 's/P courage/N with/I real/J support/N ./.\n",
      "INFO : Loss:    2/9\n",
      "INFO : Cross-entropy: 10.949054718017578 nats (= perplexity 1976.9417413414844)\n",
      "---\n",
      "INFO : Gold:    Douglas/N B./N Evans/N\n",
      "INFO : Viterbi: Douglas/D B./N Evans/.\n",
      "INFO : Loss:    2/3\n",
      "INFO : Cross-entropy: 11.71308708190918 nats (= perplexity 3357.304246517028)\n",
      "---\n"
     ]
    }
   ],
   "source": [
    "look_at_your_data(hmm, endev, 10)"
   ]
  },
  {
   "cell_type": "markdown",
   "metadata": {},
   "source": [
    "Now let's try supervised training of a CRF (this doesn't use the unsupervised\n",
    "part of the data, so it is comparable to the supervised pre-training we did\n",
    "for the HMM).  We will use SGD to approximately maximize the regularized\n",
    "log-likelihood. \n",
    "\n",
    "As with the semi-supervised HMM training, we'll periodically evaluate the\n",
    "tagging accuracy (and also print the cross-entropy) on a held-out dev set.\n",
    "We use the default `eval_interval` and `tolerance`.  If you want to stop\n",
    "sooner, then you could increase the `tolerance` so the training method decides\n",
    "sooner that it has converged.\n",
    "\n",
    "We arbitrarily choose reg = 1.0 for L2 regularization, learning rate = 0.05,\n",
    "and a minibatch size of 10, but it would be better to search for the best\n",
    "value of these hyperparameters.\n",
    "\n",
    "Note that the logger reports the CRF's *conditional* cross-entropy, log p(tags\n",
    "| words) / n.  This is much lower than the HMM's *joint* cross-entropy log\n",
    "p(tags, words) / n, but that doesn't mean the CRF is worse at tagging.  The\n",
    "CRF is just predicting less information."
   ]
  },
  {
   "cell_type": "code",
   "execution_count": 13,
   "metadata": {},
   "outputs": [
    {
     "name": "stderr",
     "output_type": "stream",
     "text": [
      "INFO : *** Conditional Random Field (CRF)\n",
      "\n"
     ]
    },
    {
     "ename": "NotImplementedError",
     "evalue": "",
     "output_type": "error",
     "traceback": [
      "\u001b[0;31m---------------------------------------------------------------------------\u001b[0m",
      "\u001b[0;31mNotImplementedError\u001b[0m                       Traceback (most recent call last)",
      "Cell \u001b[0;32mIn[13], line 2\u001b[0m\n\u001b[1;32m      1\u001b[0m log\u001b[38;5;241m.\u001b[39minfo(\u001b[38;5;124m\"\u001b[39m\u001b[38;5;124m*** Conditional Random Field (CRF)\u001b[39m\u001b[38;5;130;01m\\n\u001b[39;00m\u001b[38;5;124m\"\u001b[39m)\n\u001b[0;32m----> 2\u001b[0m crf \u001b[38;5;241m=\u001b[39m \u001b[43mConditionalRandomField\u001b[49m\u001b[43m(\u001b[49m\u001b[43mentrain\u001b[49m\u001b[38;5;241;43m.\u001b[39;49m\u001b[43mtagset\u001b[49m\u001b[43m,\u001b[49m\u001b[43m \u001b[49m\u001b[43mentrain\u001b[49m\u001b[38;5;241;43m.\u001b[39;49m\u001b[43mvocab\u001b[49m\u001b[43m)\u001b[49m  \u001b[38;5;66;03m# randomly initialized parameters  \u001b[39;00m\n\u001b[1;32m      3\u001b[0m crf\u001b[38;5;241m.\u001b[39mtrain(corpus\u001b[38;5;241m=\u001b[39mensup, loss\u001b[38;5;241m=\u001b[39mloss_dev, reg\u001b[38;5;241m=\u001b[39m\u001b[38;5;241m1.0\u001b[39m, lr\u001b[38;5;241m=\u001b[39m\u001b[38;5;241m0.05\u001b[39m, minibatch_size\u001b[38;5;241m=\u001b[39m\u001b[38;5;241m10\u001b[39m,\n\u001b[1;32m      4\u001b[0m           save_path\u001b[38;5;241m=\u001b[39m\u001b[38;5;124m\"\u001b[39m\u001b[38;5;124mensup_crf.pkl\u001b[39m\u001b[38;5;124m\"\u001b[39m)\n",
      "File \u001b[0;32m~/nlp/hw-tag/code/crf.py:55\u001b[0m, in \u001b[0;36mConditionalRandomField.__init__\u001b[0;34m(self, tagset, vocab, unigram)\u001b[0m\n\u001b[1;32m     46\u001b[0m \u001b[38;5;129m@override\u001b[39m\n\u001b[1;32m     47\u001b[0m \u001b[38;5;28;01mdef\u001b[39;00m \u001b[38;5;21m__init__\u001b[39m(\u001b[38;5;28mself\u001b[39m, \n\u001b[1;32m     48\u001b[0m              tagset: Integerizer[Tag],\n\u001b[1;32m     49\u001b[0m              vocab: Integerizer[Word],\n\u001b[1;32m     50\u001b[0m              unigram: \u001b[38;5;28mbool\u001b[39m \u001b[38;5;241m=\u001b[39m \u001b[38;5;28;01mFalse\u001b[39;00m):\n\u001b[1;32m     51\u001b[0m \u001b[38;5;250m    \u001b[39m\u001b[38;5;124;03m\"\"\"Construct an CRF with initially random parameters, with the\u001b[39;00m\n\u001b[1;32m     52\u001b[0m \u001b[38;5;124;03m    given tagset, vocabulary, and lexical features.  See the super()\u001b[39;00m\n\u001b[1;32m     53\u001b[0m \u001b[38;5;124;03m    method for discussion.\"\"\"\u001b[39;00m\n\u001b[0;32m---> 55\u001b[0m     \u001b[38;5;28;43msuper\u001b[39;49m\u001b[43m(\u001b[49m\u001b[43m)\u001b[49m\u001b[38;5;241;43m.\u001b[39;49m\u001b[38;5;21;43m__init__\u001b[39;49m\u001b[43m(\u001b[49m\u001b[43mtagset\u001b[49m\u001b[43m,\u001b[49m\u001b[43m \u001b[49m\u001b[43mvocab\u001b[49m\u001b[43m,\u001b[49m\u001b[43m \u001b[49m\u001b[43munigram\u001b[49m\u001b[43m)\u001b[49m\n",
      "File \u001b[0;32m~/nlp/hw-tag/code/hmm.py:84\u001b[0m, in \u001b[0;36mHiddenMarkovModel.__init__\u001b[0;34m(self, tagset, vocab, unigram)\u001b[0m\n\u001b[1;32m     81\u001b[0m \u001b[38;5;28;01massert\u001b[39;00m \u001b[38;5;28mself\u001b[39m\u001b[38;5;241m.\u001b[39meos_t \u001b[38;5;129;01mis\u001b[39;00m \u001b[38;5;129;01mnot\u001b[39;00m \u001b[38;5;28;01mNone\u001b[39;00m    \u001b[38;5;66;03m# we need this to exist\u001b[39;00m\n\u001b[1;32m     82\u001b[0m \u001b[38;5;28mself\u001b[39m\u001b[38;5;241m.\u001b[39meye: Tensor \u001b[38;5;241m=\u001b[39m torch\u001b[38;5;241m.\u001b[39meye(\u001b[38;5;28mself\u001b[39m\u001b[38;5;241m.\u001b[39mk)  \u001b[38;5;66;03m# identity matrix, used as a collection of one-hot tag vectors\u001b[39;00m\n\u001b[0;32m---> 84\u001b[0m \u001b[38;5;28;43mself\u001b[39;49m\u001b[38;5;241;43m.\u001b[39;49m\u001b[43minit_params\u001b[49m\u001b[43m(\u001b[49m\u001b[43m)\u001b[49m\n",
      "File \u001b[0;32m~/nlp/hw-tag/code/crf.py:68\u001b[0m, in \u001b[0;36mConditionalRandomField.init_params\u001b[0;34m(self)\u001b[0m\n\u001b[1;32m     59\u001b[0m \u001b[38;5;250m\u001b[39m\u001b[38;5;124;03m\"\"\"Initialize params self.WA and self.WB to small random values, and\u001b[39;00m\n\u001b[1;32m     60\u001b[0m \u001b[38;5;124;03mthen compute the potential matrices A, B from them.\u001b[39;00m\n\u001b[1;32m     61\u001b[0m \u001b[38;5;124;03mAs in the parent method, we respect structural zeroes (\"Don't guess when you know\").\"\"\"\u001b[39;00m\n\u001b[1;32m     63\u001b[0m \u001b[38;5;66;03m# See the \"Training CRFs\" section of the reading handout.\u001b[39;00m\n\u001b[1;32m     64\u001b[0m \u001b[38;5;66;03m# \u001b[39;00m\n\u001b[1;32m     65\u001b[0m \u001b[38;5;66;03m# For a unigram model, self.WA should just have a single row:\u001b[39;00m\n\u001b[1;32m     66\u001b[0m \u001b[38;5;66;03m# that model has fewer parameters.\u001b[39;00m\n\u001b[0;32m---> 68\u001b[0m \u001b[38;5;28;01mraise\u001b[39;00m \u001b[38;5;167;01mNotImplementedError\u001b[39;00m   \u001b[38;5;66;03m# you fill this in!\u001b[39;00m\n\u001b[1;32m     69\u001b[0m \u001b[38;5;28mself\u001b[39m\u001b[38;5;241m.\u001b[39mupdateAB()\n",
      "\u001b[0;31mNotImplementedError\u001b[0m: "
     ]
    }
   ],
   "source": [
    "log.info(\"*** Conditional Random Field (CRF)\\n\")\n",
    "crf = ConditionalRandomField(entrain.tagset, entrain.vocab)  # randomly initialized parameters  \n",
    "crf.train(corpus=ensup, loss=loss_dev, reg=1.0, lr=0.05, minibatch_size=10,\n",
    "          save_path=\"ensup_crf.pkl\")"
   ]
  },
  {
   "cell_type": "markdown",
   "metadata": {},
   "source": [
    "Let's examine how the CRF does on individual sentences. \n",
    "(Do you see any error patterns here that would inspire additional CRF features?)"
   ]
  },
  {
   "cell_type": "code",
   "execution_count": null,
   "metadata": {},
   "outputs": [],
   "source": [
    "look_at_your_data(crf, endev, 10)"
   ]
  }
 ],
 "metadata": {
  "kernelspec": {
   "display_name": "nlp-class",
   "language": "python",
   "name": "python3"
  },
  "language_info": {
   "codemirror_mode": {
    "name": "ipython",
    "version": 3
   },
   "file_extension": ".py",
   "mimetype": "text/x-python",
   "name": "python",
   "nbconvert_exporter": "python",
   "pygments_lexer": "ipython3",
   "version": "3.9.13"
  }
 },
 "nbformat": 4,
 "nbformat_minor": 2
}
